{
 "cells": [
  {
   "cell_type": "code",
   "execution_count": 26,
   "metadata": {},
   "outputs": [],
   "source": [
    "#遍历D:\\githubku\\my_jupyter\\20230224_microbe\\PLL文件夹中.txt结尾的文件\n",
    "import os\n",
    "import pandas as pd\n",
    "import sys\n",
    "input_path = sys.argv[1]\n",
    "#创建一个五行六列空的dataframe\n",
    "df1 = pd.DataFrame(index=range(5))\n",
    "#行名设置为Bacteria\t\tEnvironmental.samples\t\tfungi\t\tPhages\t\tViruses\n",
    "df1.index = ['Bacteria', 'Phages', 'Viruses']\n",
    "#列名设置为species，read1，read2，average，uniq read1，uniq read2，\n",
    "df2 = pd.DataFrame(index=range(5))\n",
    "df2.index = ['Bacteria', 'Phages', 'Viruses']\n",
    "number = 10000\n",
    "#遍历文件夹中1.txt结尾，且不为空的文件\n",
    "for file in os.listdir(input_path):\n",
    "    if file.endswith('1.txt'):\n",
    "        #读取文件内容\n",
    "        species=file.split('_')[0]\n",
    "        data = pd.read_csv(os.path.join(input_path, file), sep='\\t', header=None)\n",
    "        #获取行数，除以number，保存到df1中以species为行名，read1为列名的位置\n",
    "        df2.loc[species, 'read1_reads_redundancy'] =  str(data.shape[0])\n",
    "        df2.loc[species, 'read1_poll_rate_redundancy'] = data.shape[0] / number    \n",
    "        df2.loc[species,'read1_de_redundancy'] = str(len(set(data[0].tolist())))\n",
    "        df2.loc[species, 'read1_poll_rate_de_redundancy'] = len(set(data[0].tolist())) / number\n",
    "        #获取data第二列数量以及去重后的数量\n",
    "        df2.loc[species, 'read1_species_de_redundancy'] = str(len(set(data[1].tolist())))\n",
    "\n",
    "#遍历文件夹中2.txt结尾的文件\n",
    "for file in os.listdir(input_path):\n",
    "    if file.endswith('2.txt'):\n",
    "        #读取文件内容\n",
    "        species=file.split('_')[0]\n",
    "        data = pd.read_csv(os.path.join(input_path, file), sep='\\t', header=None)\n",
    "        df2.loc[species, 'read2_reads_redundancy'] =  str(data.shape[0])\n",
    "        df2.loc[species, 'read2_poll_rate_redundancy'] = data.shape[0] / number    \n",
    "        df2.loc[species,'read2_de_redundancy'] = str(len(set(data[0].tolist())))\n",
    "        df2.loc[species, 'read2_poll_rate_de_redundancy'] = len(set(data[0].tolist())) / number\n",
    "        #获取data第二列数量以及去重后的数量\n",
    "        df2.loc[species, 'read2_species_de_redundancy'] = str(len(set(data[1].tolist())))\n",
    "        #合并df1和df2\n",
    "df = pd.concat([df1, df2], axis=1)\n",
    "#将df中带有rate的列数据转换为百分数\n",
    "df[df.columns[df.columns.str.contains('rate')]] = df[df.columns[df.columns.str.contains('rate')]].applymap(lambda x: str(round(x*100, 2))+'%')\n",
    "#read1_species_de_redundancy列转移到倒数第二列\n",
    "df.insert(df.shape[1]-2, 'read1_species_de_redundancy', df.pop('read1_species_de_redundancy'))\n",
    "#保存到txt文件中\n",
    "df.to_csv(('pollution_rate.csv'), sep='\\t')"
   ]
  }
 ],
 "metadata": {
  "kernelspec": {
   "display_name": "Python 3",
   "language": "python",
   "name": "python3"
  },
  "language_info": {
   "codemirror_mode": {
    "name": "ipython",
    "version": 3
   },
   "file_extension": ".py",
   "mimetype": "text/x-python",
   "name": "python",
   "nbconvert_exporter": "python",
   "pygments_lexer": "ipython3",
   "version": "3.11.2"
  },
  "orig_nbformat": 4,
  "vscode": {
   "interpreter": {
    "hash": "865d8b2eb28e274047ba64063dfb6a2aabf0dfec4905d304d7a76618dae6fdd4"
   }
  }
 },
 "nbformat": 4,
 "nbformat_minor": 2
}
