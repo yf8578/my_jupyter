{
 "cells": [
  {
   "cell_type": "code",
   "execution_count": 2,
   "metadata": {},
   "outputs": [],
   "source": [
    "import pandas as pd"
   ]
  },
  {
   "cell_type": "code",
   "execution_count": null,
   "metadata": {},
   "outputs": [],
   "source": [
    "input1=\"C:\\\\Users\\\\10696\\\\Desktop\\\\all_gene_id_symbol_new.txt\"\n",
    "dfall=pd.read_csv(input1,sep=\"\\t\",header=None)"
   ]
  },
  {
   "cell_type": "code",
   "execution_count": 2,
   "metadata": {},
   "outputs": [],
   "source": [
    "input1=\"C:\\\\Users\\\\10696\\\\Desktop\\\\all_gene_id_symbol_new.txt\"\n",
    "dfall=pd.read_csv(input1,sep=\"\\t\",header=None)\n",
    "#获取Gene type列为lncRNA的行,保存为lncRNA_type_id.txt\n",
    "dfall[dfall[2]==\"lncRNA\"].to_csv(\"C:\\\\Users\\\\10696\\\\Desktop\\\\task\\\\06_pipeline\\\\lncRNA_type_id.txt\",sep=\"\\t\",index=False)\n",
    "#获取Gene type列为pseudo的行,保存为pseudo_type_id.txt\n",
    "dfall[dfall[2]==\"pseudo\"].to_csv(\"C:\\\\Users\\\\10696\\\\Desktop\\\\task\\\\06_pipeline\\\\pseudo_type_id.txt\",sep=\"\\t\",index=False)\n",
    "#获取Gene type列为tRNA的行,保存为tRNA_type_id.txt\n",
    "dfall[dfall[2]==\"tRNA\"].to_csv(\"C:\\\\Users\\\\10696\\\\Desktop\\\\task\\\\06_pipeline\\\\tRNA_type_id.txt\",sep=\"\\t\",index=False)\n",
    "#获取Gene type列为protein_coding的行,保存为protein_coding_type_id.txt\n",
    "dfall[dfall[2]==\"protein_coding\"].to_csv(\"C:\\\\Users\\\\10696\\\\Desktop\\\\task\\\\06_pipeline\\\\protein_coding_type_id.txt\",sep=\"\\t\",index=False)"
   ]
  },
  {
   "cell_type": "code",
   "execution_count": 3,
   "metadata": {},
   "outputs": [],
   "source": [
    "gtf=\"C:\\\\Users\\\\10696\\\\Desktop\\\\task\\\\06_pipeline\\\\0729_new8.all.gtf\"\n",
    "dfgtf=pd.read_csv(gtf,sep=\"\\t\",header=None)\n",
    "input2=\"C:\\\\Users\\\\10696\\\\Desktop\\\\task\\\\06_pipeline\\\\lncRNA_type_id.txt\"\n",
    "dflncRNA=pd.read_csv(input2,sep=\"\\t\")\n",
    "input3=\"C:\\\\Users\\\\10696\\\\Desktop\\\\task\\\\06_pipeline\\\\pseudo_type_id.txt\"\n",
    "dfpseudo=pd.read_csv(input3,sep=\"\\t\")\n",
    "input4=\"C:\\\\Users\\\\10696\\\\Desktop\\\\task\\\\06_pipeline\\\\tRNA_type_id.txt\"\n",
    "dftRNA=pd.read_csv(input4,sep=\"\\t\")\n",
    "input5=\"C:\\\\Users\\\\10696\\\\Desktop\\\\task\\\\06_pipeline\\\\protein_coding_type_id.txt\"\n",
    "dfprotein_coding=pd.read_csv(input5,sep=\"\\t\")\n"
   ]
  },
  {
   "cell_type": "code",
   "execution_count": null,
   "metadata": {},
   "outputs": [],
   "source": [
    "#\"C:\\Users\\10696\\Desktop\\task\\06_pipeline\\row\\tRNArow.txt\"\n",
    "#\"C:\\Users\\10696\\Desktop\\task\\06_pipeline\\row\\lncRNArow.txt\"\n",
    "#\"C:\\Users\\10696\\Desktop\\task\\06_pipeline\\row\\pseudorow.txt\"\n",
    "#\"C:\\Users\\10696\\Desktop\\task\\06_pipeline\\row\\protein_coding.txt\""
   ]
  },
  {
   "cell_type": "code",
   "execution_count": null,
   "metadata": {},
   "outputs": [],
   "source": [
    "#读取tRNArow.txt文件，创建一个空的数据表，根据每行内容获取dfgtf中索引对应的行，保存为变量trna，结果保存为tRNA.txt\n",
    "trna=pd.DataFrame()\n",
    "with open(\"C:\\\\Users\\\\10696\\\\Desktop\\\\task\\\\06_pipeline\\\\row\\\\tRNArow.txt\",\"r\") as f:\n",
    "    for line in f:\n",
    "        line=line.strip()\n",
    "        trna=trna.append(dfgtf.loc[int(line)])\n",
    "trna.to_csv(\"C:\\\\Users\\\\10696\\\\Desktop\\\\task\\\\06_pipeline\\\\tRNA.gtf\",sep=\"\\t\",index=False,header=None)"
   ]
  },
  {
   "cell_type": "code",
   "execution_count": null,
   "metadata": {},
   "outputs": [],
   "source": [
    "#读取lncRNArow.txt文件，创建一个空的数据表，根据每行内容获取dfgtf中索引对应的行，保存为变量lncrna，结果保存为lncRNA.gtf\n",
    "lncrna=pd.DataFrame()\n",
    "with open(\"C:\\\\Users\\\\10696\\\\Desktop\\\\task\\\\06_pipeline\\\\row\\\\lncRNArow.txt\",\"r\") as f:\n",
    "    for line in f:\n",
    "        line=line.strip()\n",
    "        lncrna=lncrna.append(dfgtf.loc[int(line)])\n",
    "lncrna.to_csv(\"C:\\\\Users\\\\10696\\\\Desktop\\\\task\\\\06_pipeline\\\\lncRNA.gtf\",sep=\"\\t\",index=False,header=None)"
   ]
  },
  {
   "cell_type": "code",
   "execution_count": null,
   "metadata": {},
   "outputs": [],
   "source": [
    "#读取pseudorow.txt文件，创建一个空的数据表，根据每行内容获取dfgtf中索引对应的行，保存为变量pseudo，结果保存为pseudo.gtf\n",
    "pseudo=pd.DataFrame()\n",
    "with open(\"C:\\\\Users\\\\10696\\\\Desktop\\\\task\\\\06_pipeline\\\\row\\\\pseudorow.txt\",\"r\") as f:\n",
    "    for line in f:\n",
    "        line=line.strip()\n",
    "        pseudo=pseudo.append(dfgtf.loc[int(line)])\n",
    "pseudo.to_csv(\"C:\\\\Users\\\\10696\\\\Desktop\\\\task\\\\06_pipeline\\\\pseudo.gtf\",sep=\"\\t\",index=False,header=None)"
   ]
  },
  {
   "cell_type": "code",
   "execution_count": null,
   "metadata": {},
   "outputs": [],
   "source": [
    "#读取protein_coding.txt文件，创建一个空的数据表，根据每行内容获取dfgtf中索引对应的行，保存为变量protein_coding，结果保存为protein_coding.gtf\n",
    "protein_coding=pd.DataFrame()\n",
    "with open(\"C:\\\\Users\\\\10696\\\\Desktop\\\\task\\\\06_pipeline\\\\row\\\\pro7000more.txt\",\"r\") as f:\n",
    "    for line in f:\n",
    "        line=line.strip()\n",
    "        protein_coding=protein_coding.append(dfgtf.loc[int(line)])\n",
    "protein_coding.to_csv(\"C:\\\\Users\\\\10696\\\\Desktop\\\\task\\\\06_pipeline\\\\protein_coding70000.gtf\",sep=\"\\t\",index=False,header=None)"
   ]
  }
 ],
 "metadata": {
  "kernelspec": {
   "display_name": "base",
   "language": "python",
   "name": "python3"
  },
  "language_info": {
   "codemirror_mode": {
    "name": "ipython",
    "version": 3
   },
   "file_extension": ".py",
   "mimetype": "text/x-python",
   "name": "python",
   "nbconvert_exporter": "python",
   "pygments_lexer": "ipython3",
   "version": "3.9.13"
  },
  "orig_nbformat": 4,
  "vscode": {
   "interpreter": {
    "hash": "5179d32cf6ec497baf3f8a3ef987cc77c5d2dc691fdde20a56316522f61a7323"
   }
  }
 },
 "nbformat": 4,
 "nbformat_minor": 2
}
