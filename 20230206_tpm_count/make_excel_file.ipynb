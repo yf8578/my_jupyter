{
 "cells": [
  {
   "cell_type": "code",
   "execution_count": 1,
   "metadata": {},
   "outputs": [],
   "source": [
    "import pandas as pd\n",
    "import os\n",
    "import numpy as np\n"
   ]
  },
  {
   "cell_type": "code",
   "execution_count": 2,
   "metadata": {},
   "outputs": [],
   "source": [
    "count_path=\"C:\\\\Users\\\\10696\\Desktop\\\\temp\\\\0208tpm_count\\\\count\"\n",
    "tpm_path=\"C:\\\\Users\\\\10696\\\\Desktop\\\\temp\\\\0208tpm_count\\\\tpm\"\n",
    "output_count='C:\\\\Users\\\\10696\\\\Desktop\\\\temp\\\\0208tpm_count\\\\count.xlsx'\n",
    "output_tpm='C:\\\\Users\\\\10696\\\\Desktop\\\\temp\\\\0208tpm_count\\\\tpm.xlsx'\n",
    "final_output='C:\\\\Users\\\\10696\\\\Desktop\\\\temp\\\\0208tpm_count\\\\final.xlsx'"
   ]
  },
  {
   "attachments": {},
   "cell_type": "markdown",
   "metadata": {},
   "source": [
    "统计count"
   ]
  },
  {
   "cell_type": "code",
   "execution_count": 3,
   "metadata": {},
   "outputs": [],
   "source": [
    "file_listcount = os.listdir(count_path)\n",
    "#删除文件名中的.gene_tpm.txt，赋值给变量file_tpmname\n",
    "file_countname = [file.split('.')[0] for file in file_listcount]\n",
    "#创建一个空的dataframe，以file_name作为索引，列名分别为all_mapped_reads，lncRNA，lncRNA-ratio，miRNA，miRNA-ratio，\tother，other-ratio，protein_coding，protein_coding-ratio，pseudo，pseudo-ratio，rRNA，rRNA-ratio，scRNA，scRNA-ratio，snoRNA。snoRNA-ratio，snRNA，snRNA-ratio，tRNA，tRNA-ratio，Mt_tRNA，Mt_tRNA-ratio，Mt_rRNA，Mt_rRNA-ratio，misc_RNA，misc_RNA-ratio\n",
    "df = pd.DataFrame(index=file_countname, columns=['all_mapped_reads', 'lncRNA', 'lncRNA-ratio', 'miRNA', 'miRNA-ratio', 'other', 'other-ratio', 'protein_coding', 'protein_coding-ratio', 'pseudo', 'pseudo-ratio', 'rRNA', 'rRNA-ratio', 'scRNA', 'scRNA-ratio', 'snoRNA', 'snoRNA-ratio', 'snRNA', 'snRNA-ratio', 'tRNA', 'tRNA-ratio', 'Mt_tRNA', 'Mt_tRNA-ratio', 'Mt_rRNA', 'Mt_rRNA-ratio', 'misc_RNA', 'misc_RNA-ratio'])"
   ]
  },
  {
   "cell_type": "code",
   "execution_count": 4,
   "metadata": {},
   "outputs": [],
   "source": [
    "#遍历file_list中的文件名，保存为变量file，读取文件，赋值给变量df1，将df1中的索引对应的值查找到df对应的列名中\n",
    "for file in file_listcount:\n",
    "    df1 = pd.read_csv(count_path+'\\\\'+file,index_col=0)\n",
    "    df.loc[file.split('.')[0],'all_mapped_reads'] = df1.sum()[0]\n",
    "    df.loc[file.split('.')[0],'lncRNA'] = df1.loc['lncRNA'][0]\n",
    "    df.loc[file.split('.')[0],'miRNA'] = df1.loc['miRNA'][0]\n",
    "    df.loc[file.split('.')[0],'other'] = df1.loc['other'][0]\n",
    "    df.loc[file.split('.')[0],'protein_coding'] = df1.loc['protein_coding'][0]\n",
    "    df.loc[file.split('.')[0],'pseudo'] = df1.loc['pseudo'][0]\n",
    "    df.loc[file.split('.')[0],'rRNA'] = df1.loc['rRNA'][0]\n",
    "    df.loc[file.split('.')[0],'scRNA'] = df1.loc['scRNA'][0]\n",
    "    df.loc[file.split('.')[0],'snoRNA'] = df1.loc['snoRNA'][0]\n",
    "    df.loc[file.split('.')[0],'snRNA'] = df1.loc['snRNA'][0]\n",
    "    df.loc[file.split('.')[0],'tRNA'] = df1.loc['tRNA'][0]\n",
    "    df.loc[file.split('.')[0],'Mt_tRNA'] = df1.loc['Mt_tRNA'][0]\n",
    "    df.loc[file.split('.')[0],'Mt_rRNA'] = df1.loc['Mt_rRNA'][0]\n",
    "    df.loc[file.split('.')[0],'misc_RNA'] = df1.loc['misc_RNA'][0]\n",
    "    # 计算比例\n",
    "    df.loc[file.split('.')[0],'lncRNA-ratio'] = df1.loc['lncRNA'][0]/df1.sum()[0]\n",
    "    df.loc[file.split('.')[0],'miRNA-ratio'] = df1.loc['miRNA'][0]/df1.sum()[0]\n",
    "    df.loc[file.split('.')[0],'other-ratio'] = df1.loc['other'][0]/df1.sum()[0]\n",
    "    df.loc[file.split('.')[0],'protein_coding-ratio'] = df1.loc['protein_coding'][0]/df1.sum()[0]\n",
    "    df.loc[file.split('.')[0],'pseudo-ratio'] = df1.loc['pseudo'][0]/df1.sum()[0]\n",
    "    df.loc[file.split('.')[0],'rRNA-ratio'] = df1.loc['rRNA'][0]/df1.sum()[0]\n",
    "    df.loc[file.split('.')[0],'scRNA-ratio'] = df1.loc['scRNA'][0]/df1.sum()[0]\n",
    "    df.loc[file.split('.')[0],'snoRNA-ratio'] = df1.loc['snoRNA'][0]/df1.sum()[0]\n",
    "    df.loc[file.split('.')[0],'snRNA-ratio'] = df1.loc['snRNA'][0]/df1.sum()[0]\n",
    "    df.loc[file.split('.')[0],'tRNA-ratio'] = df1.loc['tRNA'][0]/df1.sum()[0]\n",
    "    df.loc[file.split('.')[0],'Mt_tRNA-ratio'] = df1.loc['Mt_tRNA'][0]/df1.sum()[0]\n",
    "    df.loc[file.split('.')[0],'Mt_rRNA-ratio'] = df1.loc['Mt_rRNA'][0]/df1.sum()[0]\n",
    "    df.loc[file.split('.')[0],'misc_RNA-ratio'] = df1.loc['misc_RNA'][0]/df1.sum()[0]\n",
    "    #计算总数\n",
    "#保存为xlsx文件\n",
    "df.to_excel(output_count)\n",
    "\n",
    "\n",
    "\n",
    "\n"
   ]
  },
  {
   "attachments": {},
   "cell_type": "markdown",
   "metadata": {},
   "source": [
    "统计tpm"
   ]
  },
  {
   "cell_type": "code",
   "execution_count": 5,
   "metadata": {},
   "outputs": [],
   "source": [
    "#打开C:\\Users\\10696\\Desktop\\temp\\01_29tpm_count\\FAST_test_hisat\\tpm文件夹，读取文件名\n",
    "file_listtpm = os.listdir(tpm_path)\n",
    "#删除文件名中的.gene_tpm.txt，赋值给变量file_tpmname\n",
    "file_tpmname = [file.split('.')[0] for file in file_listtpm]\n",
    "#创建一个空的dataframe，列名分别为lncRNA_TPM>0\tlncRNA_TPM>1\tlncRNA_TPM>5\tlncRNA_TPM>10\tmiRNA_TPM>0\tmiRNA_TPM>1\tmiRNA_TPM>5\tmiRNA_TPM>10\tother_TPM>0\tother_TPM>1\tother_TPM>5\tother_TPM>10\tprotein_coding_TPM>0\tprotein_coding_TPM>1\tprotein_coding_TPM>5\tprotein_coding_TPM>10\tpseudo_TPM>0\tpseudo_TPM>1\tpseudo_TPM>5\tpseudo_TPM>10\trRNA_TPM>0\trRNA_TPM>1\trRNA_TPM>5\trRNA_TPM>10\tscRNA_TPM>0\tscRNA_TPM>1\tscRNA_TPM>5\tscRNA_TPM>10\tsnoRNA_TPM>0\tsnoRNA_TPM>1\tsnoRNA_TPM>5\tsnoRNA_TPM>10\tsnRNA_TPM>0\tsnRNA_TPM>1\tsnRNA_TPM>5\tsnRNA_TPM>10\ttRNA_TPM>0\ttRNA_TPM>1\ttRNA_TPM>5\ttRNA_TPM>10\t\tMt_rRNA_TPM>0 \tMt_rRNA_TPM>1 \tMt_rRNA_TPM>5 \tMt_rRNA_TPM>10 Mt_tRNA_TPM>0\tMt_tRNA_TPM>1\tMt_tRNA_TPM>5\tMt_tRNA_TPM>10 misc_RNA_TPM>0\tmisc_RNA_TPM>1\tmisc_RNA_TPM>5\tmisc_RNA_TPM>10\n",
    "df2 = pd.DataFrame(index=file_tpmname,columns=['lncRNA_TPM>0', 'lncRNA_TPM>1', 'lncRNA_TPM>5', 'lncRNA_TPM>10', 'miRNA_TPM>0', 'miRNA_TPM>1', 'miRNA_TPM>5', 'miRNA_TPM>10', 'other_TPM>0', 'other_TPM>1', 'other_TPM>5', 'other_TPM>10', 'protein_coding_TPM>0', 'protein_coding_TPM>1', 'protein_coding_TPM>5', 'protein_coding_TPM>10', 'pseudo_TPM>0', 'pseudo_TPM>1', 'pseudo_TPM>5', 'pseudo_TPM>10', 'rRNA_TPM>0', 'rRNA_TPM>1', 'rRNA_TPM>5', 'rRNA_TPM>10', 'scRNA_TPM>0', 'scRNA_TPM>1', 'scRNA_TPM>5', 'scRNA_TPM>10', 'snoRNA_TPM>0', 'snoRNA_TPM>1', 'snoRNA_TPM>5', 'snoRNA_TPM>10', 'snRNA_TPM>0', 'snRNA_TPM>1', 'snRNA_TPM>5', 'snRNA_TPM>10', 'tRNA_TPM>0', 'tRNA_TPM>1', 'tRNA_TPM>5', 'tRNA_TPM>10', 'Mt_rRNA_TPM>0', 'Mt_rRNA_TPM>1', 'Mt_rRNA_TPM>5', 'Mt_rRNA_TPM>10', 'Mt_tRNA_TPM>0', 'Mt_tRNA_TPM>1', 'Mt_tRNA_TPM>5', 'Mt_tRNA_TPM>10', 'misc_RNA_TPM>0', 'misc_RNA_TPM>1', 'misc_RNA_TPM>5', 'misc_RNA_TPM>10'])\n",
    "#读取tpm文件夹中的文件\n",
    "for file in file_listtpm:\n",
    "    #读取文件\n",
    "    df2_tpm = pd.read_csv(tpm_path+'\\\\' + file, sep=',', index_col=0)\n",
    "    #获取每个文件中的TPM>0的数量\n",
    "    df2.loc[file.split('.')[0], 'lncRNA_TPM>0'] = df2_tpm.loc['lncRNA','TPM>0']\n",
    "    df2.loc[file.split('.')[0], 'miRNA_TPM>0'] = df2_tpm.loc['miRNA','TPM>0']\n",
    "    df2.loc[file.split('.')[0], 'other_TPM>0'] = df2_tpm.loc['other','TPM>0']\n",
    "    df2.loc[file.split('.')[0], 'protein_coding_TPM>0'] = df2_tpm.loc['protein_coding','TPM>0']\n",
    "    df2.loc[file.split('.')[0], 'pseudo_TPM>0'] = df2_tpm.loc['pseudo','TPM>0']\n",
    "    df2.loc[file.split('.')[0], 'rRNA_TPM>0'] = df2_tpm.loc['rRNA','TPM>0']\n",
    "    df2.loc[file.split('.')[0], 'scRNA_TPM>0'] = df2_tpm.loc['scRNA','TPM>0']\n",
    "    df2.loc[file.split('.')[0], 'snoRNA_TPM>0'] = df2_tpm.loc['snoRNA','TPM>0']\n",
    "    df2.loc[file.split('.')[0], 'snRNA_TPM>0'] = df2_tpm.loc['snRNA','TPM>0']\n",
    "    df2.loc[file.split('.')[0], 'tRNA_TPM>0'] = df2_tpm.loc['tRNA','TPM>0']\n",
    "    df2.loc[file.split('.')[0], 'Mt_rRNA_TPM>0'] = df2_tpm.loc['Mt_rRNA','TPM>0']\n",
    "    df2.loc[file.split('.')[0], 'Mt_tRNA_TPM>0'] = df2_tpm.loc['Mt_tRNA','TPM>0']\n",
    "    df2.loc[file.split('.')[0], 'misc_RNA_TPM>0'] = df2_tpm.loc['misc_RNA','TPM>0']\n",
    "    #获取每个文件中的TPM>1的数量\n",
    "    df2.loc[file.split('.')[0], 'lncRNA_TPM>1'] = df2_tpm.loc['lncRNA','TPM>1']\n",
    "    df2.loc[file.split('.')[0], 'miRNA_TPM>1'] = df2_tpm.loc['miRNA','TPM>1']\n",
    "    df2.loc[file.split('.')[0], 'other_TPM>1'] = df2_tpm.loc['other','TPM>1']\n",
    "    df2.loc[file.split('.')[0], 'protein_coding_TPM>1'] = df2_tpm.loc['protein_coding','TPM>1']\n",
    "    df2.loc[file.split('.')[0], 'pseudo_TPM>1'] = df2_tpm.loc['pseudo','TPM>1']\n",
    "    df2.loc[file.split('.')[0], 'rRNA_TPM>1'] = df2_tpm.loc['rRNA','TPM>1']\n",
    "    df2.loc[file.split('.')[0], 'scRNA_TPM>1'] = df2_tpm.loc['scRNA','TPM>1']\n",
    "    df2.loc[file.split('.')[0], 'snoRNA_TPM>1'] = df2_tpm.loc['snoRNA','TPM>1']\n",
    "    df2.loc[file.split('.')[0], 'snRNA_TPM>1'] = df2_tpm.loc['snRNA','TPM>1']\n",
    "    df2.loc[file.split('.')[0], 'tRNA_TPM>1'] = df2_tpm.loc['tRNA','TPM>1']\n",
    "    df2.loc[file.split('.')[0], 'Mt_rRNA_TPM>1'] = df2_tpm.loc['Mt_rRNA','TPM>1']\n",
    "    df2.loc[file.split('.')[0], 'Mt_tRNA_TPM>1'] = df2_tpm.loc['Mt_tRNA','TPM>1']\n",
    "    df2.loc[file.split('.')[0], 'misc_RNA_TPM>1'] = df2_tpm.loc['misc_RNA','TPM>1']\n",
    "    #获取每个文件中的TPM>5的数量\n",
    "    df2.loc[file.split('.')[0], 'lncRNA_TPM>5'] = df2_tpm.loc['lncRNA','TPM>5']\n",
    "    df2.loc[file.split('.')[0], 'miRNA_TPM>5'] = df2_tpm.loc['miRNA','TPM>5']\n",
    "    df2.loc[file.split('.')[0], 'other_TPM>5'] = df2_tpm.loc['other','TPM>5']\n",
    "    df2.loc[file.split('.')[0], 'protein_coding_TPM>5'] = df2_tpm.loc['protein_coding','TPM>5']\n",
    "    df2.loc[file.split('.')[0], 'pseudo_TPM>5'] = df2_tpm.loc['pseudo','TPM>5']\n",
    "    df2.loc[file.split('.')[0], 'rRNA_TPM>5'] = df2_tpm.loc['rRNA','TPM>5']\n",
    "    df2.loc[file.split('.')[0], 'scRNA_TPM>5'] = df2_tpm.loc['scRNA','TPM>5']\n",
    "    df2.loc[file.split('.')[0], 'snoRNA_TPM>5'] = df2_tpm.loc['snoRNA','TPM>5']\n",
    "    df2.loc[file.split('.')[0], 'snRNA_TPM>5'] = df2_tpm.loc['snRNA','TPM>5']\n",
    "    df2.loc[file.split('.')[0], 'tRNA_TPM>5'] = df2_tpm.loc['tRNA','TPM>5']\n",
    "    df2.loc[file.split('.')[0], 'Mt_rRNA_TPM>5'] = df2_tpm.loc['Mt_rRNA','TPM>5']\n",
    "    df2.loc[file.split('.')[0], 'Mt_tRNA_TPM>5'] = df2_tpm.loc['Mt_tRNA','TPM>5']\n",
    "    df2.loc[file.split('.')[0], 'misc_RNA_TPM>5'] = df2_tpm.loc['misc_RNA','TPM>5']\n",
    "    #获取每个文件中的TPM>10的数量\n",
    "    df2.loc[file.split('.')[0], 'lncRNA_TPM>10'] = df2_tpm.loc['lncRNA','TPM>10']\n",
    "    df2.loc[file.split('.')[0], 'miRNA_TPM>10'] = df2_tpm.loc['miRNA','TPM>10']\n",
    "    df2.loc[file.split('.')[0], 'other_TPM>10'] = df2_tpm.loc['other','TPM>10']\n",
    "    df2.loc[file.split('.')[0], 'protein_coding_TPM>10'] = df2_tpm.loc['protein_coding','TPM>10']\n",
    "    df2.loc[file.split('.')[0], 'pseudo_TPM>10'] = df2_tpm.loc['pseudo','TPM>10']\n",
    "    df2.loc[file.split('.')[0], 'rRNA_TPM>10'] = df2_tpm.loc['rRNA','TPM>10']\n",
    "    df2.loc[file.split('.')[0], 'scRNA_TPM>10'] = df2_tpm.loc['scRNA','TPM>10']\n",
    "    df2.loc[file.split('.')[0], 'snoRNA_TPM>10'] = df2_tpm.loc['snoRNA','TPM>10']\n",
    "    df2.loc[file.split('.')[0], 'snRNA_TPM>10'] = df2_tpm.loc['snRNA','TPM>10']\n",
    "    df2.loc[file.split('.')[0], 'tRNA_TPM>10'] = df2_tpm.loc['tRNA','TPM>10']\n",
    "    df2.loc[file.split('.')[0], 'Mt_rRNA_TPM>10'] = df2_tpm.loc['Mt_rRNA','TPM>10']\n",
    "    df2.loc[file.split('.')[0], 'Mt_tRNA_TPM>10'] = df2_tpm.loc['Mt_tRNA','TPM>10']\n",
    "    df2.loc[file.split('.')[0], 'misc_RNA_TPM>10'] = df2_tpm.loc['misc_RNA','TPM>10']\n",
    "#保存结果为excel文件\n",
    "df2.to_excel(output_tpm)\n",
    "\n",
    "    "
   ]
  },
  {
   "cell_type": "code",
   "execution_count": 7,
   "metadata": {},
   "outputs": [],
   "source": [
    "#output_tpm、output_count两个文件合并到一个excel文件的不同sheet中\n",
    "import pandas as pd\n",
    "import os\n",
    "import xlrd\n",
    "import xlsxwriter\n",
    "from pandas import DataFrame\n",
    "#读取文件\n",
    "df1 = pd.read_excel(output_tpm)\n",
    "df2 = pd.read_excel(output_count)\n",
    "#创建一个excel文件\n",
    "writer = pd.ExcelWriter(final_output, engine='xlsxwriter')\n",
    "#将df1写入excel文件的第一个sheet中\n",
    "df1.to_excel(writer, sheet_name='TPM', index=False)\n",
    "#将df2写入excel文件的第二个sheet中\n",
    "df2.to_excel(writer, sheet_name='RNA-type', index=False)\n",
    "#保存文件\n",
    "writer.save()\n"
   ]
  }
 ],
 "metadata": {
  "kernelspec": {
   "display_name": "base",
   "language": "python",
   "name": "python3"
  },
  "language_info": {
   "codemirror_mode": {
    "name": "ipython",
    "version": 3
   },
   "file_extension": ".py",
   "mimetype": "text/x-python",
   "name": "python",
   "nbconvert_exporter": "python",
   "pygments_lexer": "ipython3",
   "version": "3.9.13"
  },
  "orig_nbformat": 4,
  "vscode": {
   "interpreter": {
    "hash": "5179d32cf6ec497baf3f8a3ef987cc77c5d2dc691fdde20a56316522f61a7323"
   }
  }
 },
 "nbformat": 4,
 "nbformat_minor": 2
}
