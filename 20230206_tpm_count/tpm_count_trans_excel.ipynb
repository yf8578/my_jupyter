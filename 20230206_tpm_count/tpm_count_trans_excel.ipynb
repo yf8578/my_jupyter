{
 "cells": [
  {
   "cell_type": "code",
   "execution_count": null,
   "metadata": {},
   "outputs": [],
   "source": []
  },
  {
   "attachments": {},
   "cell_type": "markdown",
   "metadata": {},
   "source": [
    "| Column 1        | Column 2        | Column 3        |\n",
    "| --------------- | --------------- | --------------- |\n",
    "| Row 1, Column 1 | Row 1, Column 2 | Row 1, Column 3 |\n",
    "| Row 2, Column 1 | Row 2, Column 2 | Row 2, Column 3 |\n"
   ]
  },
  {
   "attachments": {},
   "cell_type": "markdown",
   "metadata": {},
   "source": [
    "\n"
   ]
  }
 ],
 "metadata": {
  "kernelspec": {
   "display_name": "Python 3",
   "language": "python",
   "name": "python3"
  },
  "language_info": {
   "name": "python",
   "version": "3.10.6"
  },
  "orig_nbformat": 4,
  "vscode": {
   "interpreter": {
    "hash": "9a1ad4da794246a2c3d5e4df4c8f4997b830d2a17a10571c4a1568d8e7a03eef"
   }
  }
 },
 "nbformat": 4,
 "nbformat_minor": 2
}
