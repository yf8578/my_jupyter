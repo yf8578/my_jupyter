{
 "cells": [
  {
   "attachments": {},
   "cell_type": "markdown",
   "metadata": {},
   "source": [
    "针对上述任意样本，比如SGI75460067的count/tpm/cpm，会得到如下的结果\n",
    "|基因名称|\tHisat-rf结果|\tHisat-fr结果|\tStar结果|\n",
    "|-|-|-|-|\n",
    "|ABC\t|150\t|140\t|600|\n",
    "|DEF\t|120000\t|10000\t|2600|\n",
    "|GHI\t|0\t|1|200|"
   ]
  },
  {
   "attachments": {},
   "cell_type": "markdown",
   "metadata": {},
   "source": [
    "算了，算了，还是手动合并算了，不行啊 还是要写代码"
   ]
  },
  {
   "cell_type": "code",
   "execution_count": null,
   "metadata": {},
   "outputs": [],
   "source": [
    "# import os\n",
    "# import pandas as pd\n",
    "# #\"D:\\\\githubku\\\\my_jupyter\\\\20230206_tpm_count\\\\fina/12\"文件夹下所有文件夹名，保存为list\n",
    "# path = \"D:\\\\githubku\\\\my_jupyter\\\\20230206_tpm_count\\\\final/12\"\n",
    "# file_list = os.listdir(path)\n",
    "# # 读取D:\\\\githubku\\\\my_jupyter\\\\20230206_tpm_count\\\\final中的count_all.xlsx，cpm_all.xlsx，tpm_all.xlsx\n",
    "# count_all = pd.read_excel(\"D:\\\\githubku\\\\my_jupyter\\\\20230206_tpm_count\\\\final/count_all.xlsx\")\n",
    "# cpm_all = pd.read_excel(\"D:\\\\githubku\\\\my_jupyter\\\\20230206_tpm_count\\\\final/cpm_all.xlsx\")\n",
    "# tpm_all = pd.read_excel(\"D:\\\\githubku\\\\my_jupyter\\\\20230206_tpm_count\\\\final/tpm_all.xlsx\")"
   ]
  },
  {
   "cell_type": "code",
   "execution_count": null,
   "metadata": {},
   "outputs": [],
   "source": [
    "import pandas as pd\n",
    "import os\n",
    "ref = pd.read_csv(\"D:\\\\githubku\\\\my_jupyter\\\\20230206_tpm_count\\\\/merge1v1.txt\",sep=\"\\t\")\n",
    "##每种类型所包含的基因名称，以及"
   ]
  },
  {
   "cell_type": "code",
   "execution_count": null,
   "metadata": {},
   "outputs": [],
   "source": [
    "id=\"SGI75460067\""
   ]
  },
  {
   "cell_type": "code",
   "execution_count": null,
   "metadata": {},
   "outputs": [],
   "source": [
    "# D:\\\\githubku\\\\my_jupyter\\\\20230206_tpm_count\\\\0215cpm_tpm_pearson\\\\cpm_tpm\\\\type_RF_star\\\\tpm\\\\tpm"
   ]
  },
  {
   "cell_type": "code",
   "execution_count": null,
   "metadata": {},
   "outputs": [],
   "source": [
    "inputpath1 = \"D:\\\\githubku\\\\my_jupyter\\\\20230206_tpm_count\\\\0215cpm_tpm_pearson\\\\cpm_tpm\\\\sample_RF_star\\\\cpm\\\\cpm\"+id+\".txt\"\n",
    "outputpath1=\"D:\\\\githubku\\\\my_jupyter\\\\20230206_tpm_count\\\\0215cpm_tpm_pearson\\\\cpm_tpm\\\\type_RF_star\\\\cpm\\\\\"+id+\"\\\\\""
   ]
  },
  {
   "cell_type": "code",
   "execution_count": null,
   "metadata": {},
   "outputs": [],
   "source": [
    "os.makedirs(os.path.dirname(outputpath1), exist_ok=True)"
   ]
  },
  {
   "cell_type": "code",
   "execution_count": null,
   "metadata": {},
   "outputs": [],
   "source": [
    "#保留Gene Name\tGene type列\n",
    "ref = ref[[\"Gene Name\",\"Gene type\"]]\n",
    "#去除gene name重复行\n",
    "ref = ref.drop_duplicates(subset=\"Gene Name\",keep=\"first\")"
   ]
  },
  {
   "cell_type": "code",
   "execution_count": null,
   "metadata": {},
   "outputs": [],
   "source": [
    "#读入D:\\githubku\\my_jupyter\\20230206_tpm_count\\final\\12\\SGI75460067\\0067count.txt文件\n",
    "count = pd.read_csv(inputpath1,sep=\"\\t\")"
   ]
  },
  {
   "cell_type": "code",
   "execution_count": null,
   "metadata": {},
   "outputs": [],
   "source": [
    "#ref和count合并，以gene name为键，保留ref中的gene type\n",
    "count1 = pd.merge(ref,count,left_on=\"Gene Name\",right_on=\"Gene Name_RFfr\",how=\"right\")\n"
   ]
  },
  {
   "cell_type": "code",
   "execution_count": null,
   "metadata": {},
   "outputs": [],
   "source": [
    "count1"
   ]
  },
  {
   "cell_type": "code",
   "execution_count": null,
   "metadata": {},
   "outputs": [],
   "source": [
    "#将count1中的gene type列，转换为行索引\n",
    "count1 = count1.set_index(\"Gene type\")\n"
   ]
  },
  {
   "cell_type": "code",
   "execution_count": null,
   "metadata": {},
   "outputs": [],
   "source": [
    "#输出count1中gene type为空的行\n",
    "count1.loc[count1.index.isnull()]"
   ]
  },
  {
   "cell_type": "code",
   "execution_count": null,
   "metadata": {},
   "outputs": [],
   "source": [
    "#获取count1中索引，保存为list，去重\n",
    "index_name = list(set(count1.index))\n",
    "#遍历index_name,获取count1中对应索引的数据，保存到文件中\n",
    "for i in index_name:\n",
    "    count1[count1.index==i].to_csv(outputpath1+\"\\\\\"+id+\".%s.txt\"%i,sep=\"\\t\")\n"
   ]
  },
  {
   "attachments": {},
   "cell_type": "markdown",
   "metadata": {},
   "source": [
    "## 计算pearson相关系数和p     使用r语言"
   ]
  },
  {
   "cell_type": "code",
   "execution_count": null,
   "metadata": {},
   "outputs": [],
   "source": [
    "#创建一个空的数据框\n",
    "count_all = pd.DataFrame()\n",
    "#遍历file_list，读取文件，保存到count_all中,文件名作为索引\n",
    "file_list = os.listdir(\"D:\\\\githubku\\\\my_jupyter\\\\20230206_tpm_count\\\\0215cpm_tpm_pearson\\\\cpm_tpm\\\\type_RF_star\\\\sum\\\\tpm\")\n",
    "for i in file_list:\n",
    "    file = pd.read_csv(\"D:\\\\githubku\\\\my_jupyter\\\\20230206_tpm_count\\\\0215cpm_tpm_pearson\\\\cpm_tpm\\\\type_RF_star\\\\sum\\\\tpm\\\\\"+i,sep=\",\",index_col=0)\n",
    "    #将文件名设置为多级索引\n",
    "    #删除i包含的sum.txt\n",
    "    i = i.replace(\"sum.txt\",\"\")\n",
    "    file.index = pd.MultiIndex.from_product([[i],file.index])\n",
    "    #将file添加到count_all中\n",
    "    count_all = pd.concat([count_all,file],axis=0)\n",
    "count_all\n",
    "    "
   ]
  },
  {
   "cell_type": "code",
   "execution_count": null,
   "metadata": {},
   "outputs": [],
   "source": [
    "# 创建一个空的数据框\n",
    "count_all1 = pd.DataFrame()\n",
    "count_temp = pd.DataFrame()\n",
    "#在多级索引中分别查找\"Mt_rRNA\", \"Mt_tRNA\", \"lncRNA\", \"miRNA\", \"misc_RNA\", \"other\", \"protein_coding\", \"pseudo\", \"rRNA\", \"scRNA\", \"snRNA\", \"snoRNA\", \"tRNA\"的数据\n",
    "for i in [\"Mt_rRNA\", \"Mt_tRNA\", \"lncRNA\", \"miRNA\", \"misc_RNA\", \"other\", \"protein_coding\", \"pseudo\", \"rRNA\", \"scRNA\", \"snRNA\", \"snoRNA\", \"tRNA\"]:\n",
    "    count_temp=count_all.loc[count_all.index.get_level_values(1)==i]\n",
    "    # 删除count_temp中第一个索引\n",
    "    count_temp = count_temp.droplevel(1)\n",
    "    # count_temp设置为多级索引\n",
    "    count_temp.index = pd.MultiIndex.from_product([[i],count_temp.index])\n",
    "    count_all1 = pd.concat([count_all1,count_temp],axis=0)\n",
    "# count_all1输出到文件中\n",
    "count_all1.to_csv(\"D:\\\\githubku\\\\my_jupyter\\\\20230206_tpm_count\\\\0215cpm_tpm_pearson\\\\cpm_tpm\\\\type_RF_star\\\\sum\\\\final\\\\tpm_all.txt\",sep=\"\\t\")\n"
   ]
  },
  {
   "attachments": {},
   "cell_type": "markdown",
   "metadata": {},
   "source": [
    "## 合并tpm count cpm"
   ]
  },
  {
   "cell_type": "code",
   "execution_count": 1,
   "metadata": {},
   "outputs": [],
   "source": [
    "import pandas as pd\n",
    "import os"
   ]
  },
  {
   "cell_type": "code",
   "execution_count": null,
   "metadata": {},
   "outputs": [],
   "source": [
    "#合并cpm 和 tpm\n",
    "# 创建空dataframe\n",
    "cpm_1 = pd.DataFrame()\n",
    "cpm_2 = pd.DataFrame()\n",
    "path_filefolder1 = \"D:\\\\githubku\\\\my_jupyter\\\\20230206_tpm_count\\\\0215cpm_tpm_pearson\\\\cpm_tpm\\\\RFfr\\\\tpm\"\n",
    "path_filefolder2=\"D:\\\\githubku\\\\my_jupyter\\\\20230206_tpm_count\\\\0215cpm_tpm_pearson\\\\cpm_tpm\\\\star\\\\tpm\"\n",
    "outputfilefolder = \"D:\\\\githubku\\\\my_jupyter\\\\20230206_tpm_count\\\\0215cpm_tpm_pearson\\\\cpm_tpm\\\\RF_star\\\\tpm\"\n",
    "#遍历读取D:\\githubku\\my_jupyter\\20230206_tpm_count\\0215cpm_tpm_pearson\\cpm_tpm\\RFfr\\cpm中的文件\n",
    "file_list1 = os.listdir(path_filefolder1)\n",
    "for i1 in file_list1:\n",
    "    file1 = pd.read_csv(path_filefolder1+\"\\\\\"+i1,sep=\",\")\n",
    "    #按照Gene Name升序排列\n",
    "    file1 = file1.sort_values(by=\"Gene Name\")\n",
    "    #将文件名设置为多级索引\n",
    "    #删除i包含的sum.txt\n",
    "    i1 = i1.replace(\"Name_tPM.csv\",\"\")\n",
    "    file1.index = pd.MultiIndex.from_product([[i1],file1.index])\n",
    "    #将file添加到count_all中\n",
    "    cpm_1 = pd.concat([cpm_1,file1],axis=0)\n",
    "#遍历读取D:\\githubku\\my_jupyter\\20230206_tpm_count\\0215cpm_tpm_pearson\\cpm_tpm\\star\\cpm中的文件\n",
    "file_list2 = os.listdir(path_filefolder2)\n",
    "for i2 in file_list2:\n",
    "    file2 = pd.read_csv(path_filefolder2+\"\\\\\"+i2,sep=\",\")\n",
    "    #将文件名设置为多级索引\n",
    "    file2 = file2.sort_values(by=\"Gene Name\")\n",
    "    #删除i包含的sum.txt\n",
    "    i2 = i2.replace(\"Name_tPM.csv\",\"\")\n",
    "    file2.index = pd.MultiIndex.from_product([[i2],file2.index])\n",
    "    #将file添加到count_all中\n",
    "    cpm_2 = pd.concat([cpm_2,file2],axis=0)\n",
    "    \n",
    "        "
   ]
  },
  {
   "cell_type": "code",
   "execution_count": null,
   "metadata": {},
   "outputs": [],
   "source": [
    "# cpm_1列名修改为Gene Name_RFfr,tpm_RFfr\n",
    "cpm_1.columns = [\"Gene Name_RFfr\",\"tpm_RFfr\"]\n",
    "# cpm_2列名修改为Gene Name_star,tpm_star\n",
    "cpm_2.columns = [\"Gene Name_star\",\"tpm_star\"]"
   ]
  },
  {
   "cell_type": "code",
   "execution_count": null,
   "metadata": {},
   "outputs": [],
   "source": [
    "# cpm_1列名修改为Gene Name_RFfr,count_RFfr,cpm_RFfr\n",
    "cpm_1.columns = [\"Gene Name_RFfr\",\"count_RFfr\",\"cpm_RFfr\"]\n",
    "# cpm_2列名修改为Gene Name_star,count_star,cpm_star\n",
    "cpm_2.columns = [\"Gene Name_star\",\"count_star\",\"cpm_star\"]"
   ]
  },
  {
   "cell_type": "code",
   "execution_count": null,
   "metadata": {},
   "outputs": [],
   "source": [
    "#将cpm_1和cpm_2按照level_values(1)合并\n",
    "cpm_12 = cpm_1.join(cpm_2)"
   ]
  },
  {
   "cell_type": "code",
   "execution_count": null,
   "metadata": {},
   "outputs": [],
   "source": [
    "cpm_12.loc[cpm_12.index.get_level_values(0)==i]"
   ]
  },
  {
   "cell_type": "code",
   "execution_count": null,
   "metadata": {},
   "outputs": [],
   "source": [
    "# 输出cpm_12以及索引对应的数据\n",
    "# 创建一个空的数据框\n",
    "cpm_12_1 = pd.DataFrame()\n",
    "id = cpm_12.index.get_level_values(0)\n",
    "#遍历cpm_12的索引，获取对应的数据，保存到cpm_12_1中，依次输出\n",
    "for i in set(cpm_12.index.get_level_values(0)):\n",
    "    cpm_12_1 = cpm_12.loc[cpm_12.index.get_level_values(0)==i]\n",
    "    cpm_12_1.to_csv(\"D:\\\\githubku\\\\my_jupyter\\\\20230206_tpm_count\\\\0215cpm_tpm_pearson\\\\cpm_tpm\\\\sample_RF_star\\\\tpm\\\\tpm\"+i+\".txt\",sep=\"\\t\")"
   ]
  },
  {
   "cell_type": "code",
   "execution_count": null,
   "metadata": {},
   "outputs": [],
   "source": []
  },
  {
   "cell_type": "code",
   "execution_count": 48,
   "metadata": {},
   "outputs": [],
   "source": [
    "\n",
    "import pandas as pd\n",
    "import os\n",
    "## 合并同一批样本的tpm  \n",
    "inputfilefolder = \"C:\\\\Users\\\\zhangyifan1\\\\Desktop\\\\work\\\\0217\\\\name_tpm\\\\\"\n",
    "outputfile= \"C:\\\\Users\\\\zhangyifan1\\\\Desktop\\\\work\\\\0217\\\\jingshen0207_name_tpm.csv\"\n",
    "#遍历文件夹的文件，将文件名保存到file_list中\n",
    "file_list = os.listdir(inputfilefolder)\n",
    "# 创建空dataframe\n",
    "tpm_1 = pd.DataFrame()\n",
    "#遍历读取D:\\githubku\\my_jupyter\\20230206_tpm_count\\0215cpm_tpm_pearson\\cpm_tpm\\RFfr\\tpm中的文件,按照Gene Name合并\n",
    "for i in file_list:\n",
    "    file = pd.read_csv(inputfilefolder+\"\\\\\"+i,sep=\",\")\n",
    "    #按照Gene Name升序排列\n",
    "    file = file.sort_values(by=\"Gene Name\")\n",
    "    #文件名替换TPM作为列名\n",
    "    i = i.replace(\".Name_tPM.csv\",\"\")\n",
    "    file.columns = [\"Gene Name\",i]\n",
    "    #依次将file添加到tpm_1中\n",
    "    tpm_1 = pd.concat([tpm_1,file],axis=1)\n",
    "# 创建一个新数据框，将tpm_1的第一列设为索引\n",
    "tpm_1_1 = pd.DataFrame(tpm_1.iloc[:,0])\n",
    "#将tpm_1中列名不为  Gene Name的列添加到tpm_1_1中\n",
    "tpm_1_1 = pd.concat([tpm_1_1,tpm_1.loc[:,tpm_1.columns != \"Gene Name\"]],axis=1)\n",
    "#将Gene Name设置为索引\n",
    "tpm_1_1.index = tpm_1_1[\"Gene Name\"]\n",
    "#删除Gene Name列\n",
    "tpm_1_1 = tpm_1_1.drop(\"Gene Name\",axis=1)\n",
    "#输出tpm_1_1\n",
    "tpm_1_1.to_csv(outputfile,sep=\",\")"
   ]
  },
  {
   "cell_type": "code",
   "execution_count": 35,
   "metadata": {},
   "outputs": [
    {
     "data": {
      "text/html": [
       "<div>\n",
       "<style scoped>\n",
       "    .dataframe tbody tr th:only-of-type {\n",
       "        vertical-align: middle;\n",
       "    }\n",
       "\n",
       "    .dataframe tbody tr th {\n",
       "        vertical-align: top;\n",
       "    }\n",
       "\n",
       "    .dataframe thead th {\n",
       "        text-align: right;\n",
       "    }\n",
       "</style>\n",
       "<table border=\"1\" class=\"dataframe\">\n",
       "  <thead>\n",
       "    <tr style=\"text-align: right;\">\n",
       "      <th></th>\n",
       "      <th>UHR+r-J-010-BT513-S</th>\n",
       "      <th>UHR+r-J-050-BT513-S</th>\n",
       "    </tr>\n",
       "  </thead>\n",
       "  <tbody>\n",
       "    <tr>\n",
       "      <th>0</th>\n",
       "      <td>0.081610</td>\n",
       "      <td>0.076459</td>\n",
       "    </tr>\n",
       "    <tr>\n",
       "      <th>1</th>\n",
       "      <td>0.049236</td>\n",
       "      <td>0.092194</td>\n",
       "    </tr>\n",
       "    <tr>\n",
       "      <th>2</th>\n",
       "      <td>0.166203</td>\n",
       "      <td>0.142967</td>\n",
       "    </tr>\n",
       "    <tr>\n",
       "      <th>3</th>\n",
       "      <td>9.972236</td>\n",
       "      <td>9.610504</td>\n",
       "    </tr>\n",
       "    <tr>\n",
       "      <th>4</th>\n",
       "      <td>0.044740</td>\n",
       "      <td>0.068698</td>\n",
       "    </tr>\n",
       "    <tr>\n",
       "      <th>...</th>\n",
       "      <td>...</td>\n",
       "      <td>...</td>\n",
       "    </tr>\n",
       "    <tr>\n",
       "      <th>45093</th>\n",
       "      <td>0.624894</td>\n",
       "      <td>0.749918</td>\n",
       "    </tr>\n",
       "    <tr>\n",
       "      <th>45094</th>\n",
       "      <td>0.000000</td>\n",
       "      <td>0.000000</td>\n",
       "    </tr>\n",
       "    <tr>\n",
       "      <th>45095</th>\n",
       "      <td>0.413722</td>\n",
       "      <td>0.332935</td>\n",
       "    </tr>\n",
       "    <tr>\n",
       "      <th>45096</th>\n",
       "      <td>0.699649</td>\n",
       "      <td>0.556337</td>\n",
       "    </tr>\n",
       "    <tr>\n",
       "      <th>45097</th>\n",
       "      <td>0.000000</td>\n",
       "      <td>0.000000</td>\n",
       "    </tr>\n",
       "  </tbody>\n",
       "</table>\n",
       "<p>45098 rows × 2 columns</p>\n",
       "</div>"
      ],
      "text/plain": [
       "       UHR+r-J-010-BT513-S  UHR+r-J-050-BT513-S\n",
       "0                 0.081610             0.076459\n",
       "1                 0.049236             0.092194\n",
       "2                 0.166203             0.142967\n",
       "3                 9.972236             9.610504\n",
       "4                 0.044740             0.068698\n",
       "...                    ...                  ...\n",
       "45093             0.624894             0.749918\n",
       "45094             0.000000             0.000000\n",
       "45095             0.413722             0.332935\n",
       "45096             0.699649             0.556337\n",
       "45097             0.000000             0.000000\n",
       "\n",
       "[45098 rows x 2 columns]"
      ]
     },
     "execution_count": 35,
     "metadata": {},
     "output_type": "execute_result"
    }
   ],
   "source": [
    "#输出不为列名不为Gene Name的列\n",
    "tpm_1.loc[:,tpm_1.columns!=\"Gene Name\"]"
   ]
  },
  {
   "cell_type": "code",
   "execution_count": 28,
   "metadata": {},
   "outputs": [
    {
     "data": {
      "text/plain": [
       "0        0.081610\n",
       "1        0.049236\n",
       "2        0.166203\n",
       "3        9.972236\n",
       "4        0.044740\n",
       "           ...   \n",
       "45093    0.624894\n",
       "45094    0.000000\n",
       "45095    0.413722\n",
       "45096    0.699649\n",
       "45097    0.000000\n",
       "Name: UHR+r-J-010-BT513-S, Length: 45098, dtype: float64"
      ]
     },
     "execution_count": 28,
     "metadata": {},
     "output_type": "execute_result"
    }
   ],
   "source": [
    "#获取tpm_1第二列的内容\n",
    "tpm_1.iloc[:,1]"
   ]
  },
  {
   "cell_type": "code",
   "execution_count": 24,
   "metadata": {},
   "outputs": [],
   "source": [
    "import pandas as pd\n",
    "import os\n",
    "## 合并同一批样本的tpm  \n",
    "inputfilefolder = \"C:\\\\Users\\\\zhangyifan1\\\\Desktop\\\\0216\\\\0210\\\\name_tpm\\\\\"\n",
    "outputfile= \"C:\\\\Users\\\\zhangyifan1\\\\Desktop\\\\name_tpm\\\\0210name_tpm.csv\"\n",
    "#遍历文件夹的文件，将文件名保存到file_list中\n",
    "file_list = os.listdir(inputfilefolder)\n",
    "# 创建空dataframe\n",
    "tpm_1 = pd.DataFrame()\n",
    "cnt=1\n",
    "#遍历读取D:\\githubku\\my_jupyter\\20230206_tpm_count\\0215cpm_tpm_pearson\\cpm_tpm\\RFfr\\tpm中的文件,按照Gene Name合并\n",
    "#第一个文件保存为file，之后的文件保存为file2\n",
    "for i in file_list:\n",
    "    if cnt ==1:\n",
    "        file = pd.read_csv(inputfilefolder+\"\\\\\"+i,sep=\",\")\n",
    "        #按照Gene Name升序排列\n",
    "        file = file.sort_values(by=\"Gene Name\")\n",
    "        #文件名替换TPM作为列名\n",
    "        i = i.replace(\"Name_tPM.csv\",\"\")\n",
    "        file.columns = [\"Gene Name\",i]\n",
    "        #依次将file横向添加到tpm_1中\n",
    "        tpm_1 = pd.concat([tpm_1,file],axis=1)\n",
    "        #将tpm_1第一列设为索引\n",
    "        tpm_1 = tpm_1.set_index(\"Gene Name\")\n",
    "        cnt +=1\n",
    "    else:\n",
    "        file2 = pd.read_csv(inputfilefolder+\"\\\\\"+i,sep=\",\")\n",
    "        #按照Gene Name升序排列\n",
    "        file2 = file.sort_values(by=\"Gene Name\")\n",
    "        #文件名替换TPM作为列名\n",
    "        i = i.replace(\"Name_tPM.csv\",\"\")\n",
    "        file2.columns = [\"Gene Name\",i]\n",
    "        # 将file2合并到tpm_1中\n",
    "        # 将第一列设置为索引\n",
    "        file2 = file2.set_index(\"Gene Name\")\n",
    "        file = pd.concat([file,file2[i]],axis=1)\n",
    "        cnt+=1\n",
    "tpm_1.to_csv(outputfile,sep=\",\")\n",
    "    "
   ]
  }
 ],
 "metadata": {
  "kernelspec": {
   "display_name": "base",
   "language": "python",
   "name": "python3"
  },
  "language_info": {
   "codemirror_mode": {
    "name": "ipython",
    "version": 3
   },
   "file_extension": ".py",
   "mimetype": "text/x-python",
   "name": "python",
   "nbconvert_exporter": "python",
   "pygments_lexer": "ipython3",
   "version": "3.9.12"
  },
  "orig_nbformat": 4,
  "vscode": {
   "interpreter": {
    "hash": "fd16a1c2e981052eaae61151b9525ae9913f1f0d16bca6b7e7be9e0f29d739d2"
   }
  }
 },
 "nbformat": 4,
 "nbformat_minor": 2
}
