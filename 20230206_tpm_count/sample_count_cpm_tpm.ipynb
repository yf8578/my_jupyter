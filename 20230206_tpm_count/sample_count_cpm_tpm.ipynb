{
 "cells": [
  {
   "attachments": {},
   "cell_type": "markdown",
   "metadata": {},
   "source": [
    "针对上述任意样本，比如SGI75460067的count/tpm/cpm，会得到如下的结果\n",
    "|基因名称|\tHisat-rf结果|\tHisat-fr结果|\tStar结果|\n",
    "|-|-|-|-|\n",
    "|ABC\t|150\t|140\t|600|\n",
    "|DEF\t|120000\t|10000\t|2600|\n",
    "|GHI\t|0\t|1|200|"
   ]
  },
  {
   "attachments": {},
   "cell_type": "markdown",
   "metadata": {},
   "source": [
    "算了，算了，还是手动合并算了"
   ]
  },
  {
   "cell_type": "code",
   "execution_count": 104,
   "metadata": {},
   "outputs": [],
   "source": [
    "# import os\n",
    "# import pandas as pd\n",
    "# #\"D:\\\\githubku\\\\my_jupyter\\\\20230206_tpm_count\\\\fina/12\"文件夹下所有文件夹名，保存为list\n",
    "# path = \"D:\\\\githubku\\\\my_jupyter\\\\20230206_tpm_count\\\\final/12\"\n",
    "# file_list = os.listdir(path)\n",
    "# # 读取D:\\\\githubku\\\\my_jupyter\\\\20230206_tpm_count\\\\final中的count_all.xlsx，cpm_all.xlsx，tpm_all.xlsx\n",
    "# count_all = pd.read_excel(\"D:\\\\githubku\\\\my_jupyter\\\\20230206_tpm_count\\\\final/count_all.xlsx\")\n",
    "# cpm_all = pd.read_excel(\"D:\\\\githubku\\\\my_jupyter\\\\20230206_tpm_count\\\\final/cpm_all.xlsx\")\n",
    "# tpm_all = pd.read_excel(\"D:\\\\githubku\\\\my_jupyter\\\\20230206_tpm_count\\\\final/tpm_all.xlsx\")"
   ]
  },
  {
   "cell_type": "code",
   "execution_count": 105,
   "metadata": {},
   "outputs": [
    {
     "name": "stderr",
     "output_type": "stream",
     "text": [
      "C:\\Users\\zhangyifan1\\AppData\\Local\\Temp\\ipykernel_25680\\1681191210.py:3: DtypeWarning: Columns (0) have mixed types. Specify dtype option on import or set low_memory=False.\n",
      "  ref = pd.read_csv(\"D:\\\\githubku\\\\my_jupyter\\\\20230206_tpm_count\\\\/merge1v1.txt\",sep=\"\\t\")\n"
     ]
    }
   ],
   "source": [
    "import pandas as pd\n",
    "import os\n",
    "ref = pd.read_csv(\"D:\\\\githubku\\\\my_jupyter\\\\20230206_tpm_count\\\\/merge1v1.txt\",sep=\"\\t\")\n",
    "##每种类型所包含的基因名称，以及"
   ]
  },
  {
   "cell_type": "code",
   "execution_count": 106,
   "metadata": {},
   "outputs": [],
   "source": [
    "#保留Gene Name\tGene type列\n",
    "ref = ref[[\"Gene Name\",\"Gene type\"]]\n",
    "#去除gene name重复行\n",
    "ref = ref.drop_duplicates(subset=\"Gene Name\",keep=\"first\")"
   ]
  },
  {
   "cell_type": "code",
   "execution_count": 107,
   "metadata": {},
   "outputs": [],
   "source": [
    "#读入D:\\githubku\\my_jupyter\\20230206_tpm_count\\final\\12\\SGI75460067\\0067count.txt文件\n",
    "count = pd.read_csv(\"D:\\\\githubku\\\\my_jupyter\\\\20230206_tpm_count\\\\final\\\\12\\\\SGI75460105\\\\0105count.txt\",sep=\"\\t\")"
   ]
  },
  {
   "cell_type": "code",
   "execution_count": 108,
   "metadata": {},
   "outputs": [],
   "source": [
    "#ref和count合并，以gene name为键，保留ref中的gene type\n",
    "count1 = pd.merge(ref,count,on=\"Gene Name\",how=\"right\")\n"
   ]
  },
  {
   "cell_type": "code",
   "execution_count": 109,
   "metadata": {},
   "outputs": [],
   "source": [
    "#将count1中的gene type列，转换为行索引\n",
    "count1 = count1.set_index(\"Gene type\")\n"
   ]
  },
  {
   "cell_type": "code",
   "execution_count": 110,
   "metadata": {},
   "outputs": [],
   "source": [
    "#获取count1中索引，保存为list，去重\n",
    "index_name = list(set(count1.index))\n",
    "#遍历index_name,获取count1中对应索引的数据，保存到文件中\n",
    "for i in index_name:\n",
    "    count1[count1.index==i].to_csv(\"D:\\\\githubku\\\\my_jupyter\\\\20230206_tpm_count\\\\final\\\\12\\\\SGI75460105\\\\SGI75460105.%s.txt\"%i,sep=\"\\t\")\n"
   ]
  }
 ],
 "metadata": {
  "kernelspec": {
   "display_name": "base",
   "language": "python",
   "name": "python3"
  },
  "language_info": {
   "codemirror_mode": {
    "name": "ipython",
    "version": 3
   },
   "file_extension": ".py",
   "mimetype": "text/x-python",
   "name": "python",
   "nbconvert_exporter": "python",
   "pygments_lexer": "ipython3",
   "version": "3.9.12"
  },
  "orig_nbformat": 4,
  "vscode": {
   "interpreter": {
    "hash": "fd16a1c2e981052eaae61151b9525ae9913f1f0d16bca6b7e7be9e0f29d739d2"
   }
  }
 },
 "nbformat": 4,
 "nbformat_minor": 2
}
