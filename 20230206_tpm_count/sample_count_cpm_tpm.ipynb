{
 "cells": [
  {
   "attachments": {},
   "cell_type": "markdown",
   "metadata": {},
   "source": [
    "针对上述任意样本，比如SGI75460067的count/tpm/cpm，会得到如下的结果\n",
    "|基因名称|\tHisat-rf结果|\tHisat-fr结果|\tStar结果|\n",
    "|-|-|-|-|\n",
    "|ABC\t|150\t|140\t|600|\n",
    "|DEF\t|120000\t|10000\t|2600|\n",
    "|GHI\t|0\t|1|200|"
   ]
  },
  {
   "attachments": {},
   "cell_type": "markdown",
   "metadata": {},
   "source": [
    "算了，算了，还是手动合并算了"
   ]
  },
  {
   "cell_type": "code",
   "execution_count": 99,
   "metadata": {},
   "outputs": [],
   "source": [
    "# import os\n",
    "# import pandas as pd\n",
    "# #\"D:\\\\githubku\\\\my_jupyter\\\\20230206_tpm_count\\\\fina/12\"文件夹下所有文件夹名，保存为list\n",
    "# path = \"D:\\\\githubku\\\\my_jupyter\\\\20230206_tpm_count\\\\final/12\"\n",
    "# file_list = os.listdir(path)\n",
    "# # 读取D:\\\\githubku\\\\my_jupyter\\\\20230206_tpm_count\\\\final中的count_all.xlsx，cpm_all.xlsx，tpm_all.xlsx\n",
    "# count_all = pd.read_excel(\"D:\\\\githubku\\\\my_jupyter\\\\20230206_tpm_count\\\\final/count_all.xlsx\")\n",
    "# cpm_all = pd.read_excel(\"D:\\\\githubku\\\\my_jupyter\\\\20230206_tpm_count\\\\final/cpm_all.xlsx\")\n",
    "# tpm_all = pd.read_excel(\"D:\\\\githubku\\\\my_jupyter\\\\20230206_tpm_count\\\\final/tpm_all.xlsx\")"
   ]
  },
  {
   "cell_type": "code",
   "execution_count": 1,
   "metadata": {},
   "outputs": [
    {
     "name": "stderr",
     "output_type": "stream",
     "text": [
      "C:\\Users\\zhangyifan1\\AppData\\Local\\Temp\\ipykernel_23000\\1681191210.py:3: DtypeWarning: Columns (0) have mixed types. Specify dtype option on import or set low_memory=False.\n",
      "  ref = pd.read_csv(\"D:\\\\githubku\\\\my_jupyter\\\\20230206_tpm_count\\\\/merge1v1.txt\",sep=\"\\t\")\n"
     ]
    }
   ],
   "source": [
    "import pandas as pd\n",
    "import os\n",
    "ref = pd.read_csv(\"D:\\\\githubku\\\\my_jupyter\\\\20230206_tpm_count\\\\/merge1v1.txt\",sep=\"\\t\")\n",
    "##每种类型所包含的基因名称，以及"
   ]
  },
  {
   "cell_type": "code",
   "execution_count": 101,
   "metadata": {},
   "outputs": [],
   "source": [
    "id=\"105\""
   ]
  },
  {
   "cell_type": "code",
   "execution_count": 102,
   "metadata": {},
   "outputs": [],
   "source": [
    "inputpath1 = \"D:\\\\githubku\\\\my_jupyter\\\\20230206_tpm_count\\\\final\\\\12\\\\type\\\\tpm\\\\\"+id+\"\\\\\"+ id+ \".txt\"\n",
    "outputpath1=\"D:\\\\githubku\\\\my_jupyter\\\\20230206_tpm_count\\\\final\\\\12\\\\type\\\\tpm\\\\fianltype\\\\\"+id+\"\\\\\""
   ]
  },
  {
   "cell_type": "code",
   "execution_count": 103,
   "metadata": {},
   "outputs": [],
   "source": [
    "os.makedirs(os.path.dirname(outputpath1), exist_ok=True)"
   ]
  },
  {
   "cell_type": "code",
   "execution_count": 104,
   "metadata": {},
   "outputs": [],
   "source": [
    "#保留Gene Name\tGene type列\n",
    "ref = ref[[\"Gene Name\",\"Gene type\"]]\n",
    "#去除gene name重复行\n",
    "ref = ref.drop_duplicates(subset=\"Gene Name\",keep=\"first\")"
   ]
  },
  {
   "cell_type": "code",
   "execution_count": 105,
   "metadata": {},
   "outputs": [],
   "source": [
    "#读入D:\\githubku\\my_jupyter\\20230206_tpm_count\\final\\12\\SGI75460067\\0067count.txt文件\n",
    "count = pd.read_csv(inputpath1,sep=\"\\t\")"
   ]
  },
  {
   "cell_type": "code",
   "execution_count": 106,
   "metadata": {},
   "outputs": [],
   "source": [
    "#ref和count合并，以gene name为键，保留ref中的gene type\n",
    "count1 = pd.merge(ref,count,on=\"Gene Name\",how=\"right\")\n"
   ]
  },
  {
   "cell_type": "code",
   "execution_count": 107,
   "metadata": {},
   "outputs": [],
   "source": [
    "#将count1中的gene type列，转换为行索引\n",
    "count1 = count1.set_index(\"Gene type\")\n"
   ]
  },
  {
   "cell_type": "code",
   "execution_count": null,
   "metadata": {},
   "outputs": [],
   "source": [
    "#输出count1中gene type为空的行\n",
    "count1.loc[count1.index.isnull()]"
   ]
  },
  {
   "cell_type": "code",
   "execution_count": 110,
   "metadata": {},
   "outputs": [],
   "source": [
    "#获取count1中索引，保存为list，去重\n",
    "index_name = list(set(count1.index))\n",
    "#遍历index_name,获取count1中对应索引的数据，保存到文件中\n",
    "for i in index_name:\n",
    "    count1[count1.index==i].to_csv(outputpath1+\"\\\\\"+id+\".%s.txt\"%i,sep=\"\\t\")\n"
   ]
  },
  {
   "attachments": {},
   "cell_type": "markdown",
   "metadata": {},
   "source": [
    "## 计算pearson相关系数和p使用r语言"
   ]
  },
  {
   "cell_type": "code",
   "execution_count": 3,
   "metadata": {},
   "outputs": [
    {
     "data": {
      "text/html": [
       "<div>\n",
       "<style scoped>\n",
       "    .dataframe tbody tr th:only-of-type {\n",
       "        vertical-align: middle;\n",
       "    }\n",
       "\n",
       "    .dataframe tbody tr th {\n",
       "        vertical-align: top;\n",
       "    }\n",
       "\n",
       "    .dataframe thead th {\n",
       "        text-align: right;\n",
       "    }\n",
       "</style>\n",
       "<table border=\"1\" class=\"dataframe\">\n",
       "  <thead>\n",
       "    <tr style=\"text-align: right;\">\n",
       "      <th></th>\n",
       "      <th></th>\n",
       "      <th>rf:fr_r</th>\n",
       "      <th>rf:fr_p</th>\n",
       "      <th>rf:star_r</th>\n",
       "      <th>rf:star_p</th>\n",
       "      <th>fr:star_r</th>\n",
       "      <th>fr:star_p</th>\n",
       "    </tr>\n",
       "  </thead>\n",
       "  <tbody>\n",
       "    <tr>\n",
       "      <th rowspan=\"5\" valign=\"top\">SGI75460067</th>\n",
       "      <th>Mt_rRNA</th>\n",
       "      <td>NaN</td>\n",
       "      <td>NaN</td>\n",
       "      <td>NaN</td>\n",
       "      <td>NaN</td>\n",
       "      <td>NaN</td>\n",
       "      <td>NaN</td>\n",
       "    </tr>\n",
       "    <tr>\n",
       "      <th>Mt_tRNA</th>\n",
       "      <td>0.996808</td>\n",
       "      <td>1.957649e-23</td>\n",
       "      <td>0.969862</td>\n",
       "      <td>9.852192e-14</td>\n",
       "      <td>0.952406</td>\n",
       "      <td>8.839637e-12</td>\n",
       "    </tr>\n",
       "    <tr>\n",
       "      <th>lncRNA</th>\n",
       "      <td>0.783127</td>\n",
       "      <td>0.000000e+00</td>\n",
       "      <td>0.538432</td>\n",
       "      <td>0.000000e+00</td>\n",
       "      <td>0.855258</td>\n",
       "      <td>0.000000e+00</td>\n",
       "    </tr>\n",
       "    <tr>\n",
       "      <th>miRNA</th>\n",
       "      <td>0.998310</td>\n",
       "      <td>0.000000e+00</td>\n",
       "      <td>0.907064</td>\n",
       "      <td>0.000000e+00</td>\n",
       "      <td>0.911561</td>\n",
       "      <td>0.000000e+00</td>\n",
       "    </tr>\n",
       "    <tr>\n",
       "      <th>misc_RNA</th>\n",
       "      <td>0.998085</td>\n",
       "      <td>3.079559e-07</td>\n",
       "      <td>0.926256</td>\n",
       "      <td>2.725180e-03</td>\n",
       "      <td>0.947488</td>\n",
       "      <td>1.179699e-03</td>\n",
       "    </tr>\n",
       "    <tr>\n",
       "      <th>...</th>\n",
       "      <th>...</th>\n",
       "      <td>...</td>\n",
       "      <td>...</td>\n",
       "      <td>...</td>\n",
       "      <td>...</td>\n",
       "      <td>...</td>\n",
       "      <td>...</td>\n",
       "    </tr>\n",
       "    <tr>\n",
       "      <th rowspan=\"5\" valign=\"top\">SGI75460105</th>\n",
       "      <th>rRNA</th>\n",
       "      <td>0.989563</td>\n",
       "      <td>2.954999e-24</td>\n",
       "      <td>-0.062730</td>\n",
       "      <td>7.464893e-01</td>\n",
       "      <td>-0.062678</td>\n",
       "      <td>7.466918e-01</td>\n",
       "    </tr>\n",
       "    <tr>\n",
       "      <th>scRNA</th>\n",
       "      <td>0.926631</td>\n",
       "      <td>7.336945e-02</td>\n",
       "      <td>0.900120</td>\n",
       "      <td>9.988017e-02</td>\n",
       "      <td>0.997426</td>\n",
       "      <td>2.574120e-03</td>\n",
       "    </tr>\n",
       "    <tr>\n",
       "      <th>snRNA</th>\n",
       "      <td>0.954443</td>\n",
       "      <td>1.438482e-78</td>\n",
       "      <td>0.039936</td>\n",
       "      <td>6.298692e-01</td>\n",
       "      <td>0.150911</td>\n",
       "      <td>6.712388e-02</td>\n",
       "    </tr>\n",
       "    <tr>\n",
       "      <th>snoRNA</th>\n",
       "      <td>0.833353</td>\n",
       "      <td>4.752912e-321</td>\n",
       "      <td>0.810630</td>\n",
       "      <td>4.998569e-290</td>\n",
       "      <td>0.943541</td>\n",
       "      <td>0.000000e+00</td>\n",
       "    </tr>\n",
       "    <tr>\n",
       "      <th>tRNA</th>\n",
       "      <td>0.999922</td>\n",
       "      <td>0.000000e+00</td>\n",
       "      <td>0.997885</td>\n",
       "      <td>0.000000e+00</td>\n",
       "      <td>0.998379</td>\n",
       "      <td>0.000000e+00</td>\n",
       "    </tr>\n",
       "  </tbody>\n",
       "</table>\n",
       "<p>91 rows × 6 columns</p>\n",
       "</div>"
      ],
      "text/plain": [
       "                       rf:fr_r        rf:fr_p  rf:star_r      rf:star_p  \\\n",
       "SGI75460067 Mt_rRNA        NaN            NaN        NaN            NaN   \n",
       "            Mt_tRNA   0.996808   1.957649e-23   0.969862   9.852192e-14   \n",
       "            lncRNA    0.783127   0.000000e+00   0.538432   0.000000e+00   \n",
       "            miRNA     0.998310   0.000000e+00   0.907064   0.000000e+00   \n",
       "            misc_RNA  0.998085   3.079559e-07   0.926256   2.725180e-03   \n",
       "...                        ...            ...        ...            ...   \n",
       "SGI75460105 rRNA      0.989563   2.954999e-24  -0.062730   7.464893e-01   \n",
       "            scRNA     0.926631   7.336945e-02   0.900120   9.988017e-02   \n",
       "            snRNA     0.954443   1.438482e-78   0.039936   6.298692e-01   \n",
       "            snoRNA    0.833353  4.752912e-321   0.810630  4.998569e-290   \n",
       "            tRNA      0.999922   0.000000e+00   0.997885   0.000000e+00   \n",
       "\n",
       "                      fr:star_r     fr:star_p  \n",
       "SGI75460067 Mt_rRNA         NaN           NaN  \n",
       "            Mt_tRNA    0.952406  8.839637e-12  \n",
       "            lncRNA     0.855258  0.000000e+00  \n",
       "            miRNA      0.911561  0.000000e+00  \n",
       "            misc_RNA   0.947488  1.179699e-03  \n",
       "...                         ...           ...  \n",
       "SGI75460105 rRNA      -0.062678  7.466918e-01  \n",
       "            scRNA      0.997426  2.574120e-03  \n",
       "            snRNA      0.150911  6.712388e-02  \n",
       "            snoRNA     0.943541  0.000000e+00  \n",
       "            tRNA       0.998379  0.000000e+00  \n",
       "\n",
       "[91 rows x 6 columns]"
      ]
     },
     "execution_count": 3,
     "metadata": {},
     "output_type": "execute_result"
    }
   ],
   "source": [
    "#创建一个空的数据框\n",
    "count_all = pd.DataFrame()\n",
    "#遍历file_list，读取文件，保存到count_all中,文件名作为索引\n",
    "file_list = os.listdir(\"D:\\\\githubku\\\\my_jupyter\\\\20230206_tpm_count\\\\final\\\\12\\\\type\\\\count\\\\finaltype\")\n",
    "for i in file_list:\n",
    "    file = pd.read_csv(\"D:\\\\githubku\\\\my_jupyter\\\\20230206_tpm_count\\\\final\\\\12\\\\type\\\\count\\\\finaltype\\\\\"+i,sep=\",\",index_col=0)\n",
    "    #将文件名设置为多级索引\n",
    "    #删除i包含的sum.txt\n",
    "    i = \"SGI75460\"+i.replace(\"sum.txt\",\"\")\n",
    "    file.index = pd.MultiIndex.from_product([[i],file.index])\n",
    "    #将file添加到count_all中\n",
    "    count_all = pd.concat([count_all,file],axis=0)\n",
    "count_all\n",
    "    "
   ]
  },
  {
   "cell_type": "code",
   "execution_count": 5,
   "metadata": {},
   "outputs": [],
   "source": [
    "# 创建一个空的数据框\n",
    "count_all1 = pd.DataFrame()\n",
    "count_temp = pd.DataFrame()\n",
    "#在多级索引中分别查找\"Mt_rRNA\", \"Mt_tRNA\", \"lncRNA\", \"miRNA\", \"misc_RNA\", \"other\", \"protein_coding\", \"pseudo\", \"rRNA\", \"scRNA\", \"snRNA\", \"snoRNA\", \"tRNA\"的数据\n",
    "for i in [\"Mt_rRNA\", \"Mt_tRNA\", \"lncRNA\", \"miRNA\", \"misc_RNA\", \"other\", \"protein_coding\", \"pseudo\", \"rRNA\", \"scRNA\", \"snRNA\", \"snoRNA\", \"tRNA\"]:\n",
    "    count_temp=count_all.loc[count_all.index.get_level_values(1)==i]\n",
    "    # 删除count_temp中第一个索引\n",
    "    count_temp = count_temp.droplevel(1)\n",
    "    # count_temp设置为多级索引\n",
    "    count_temp.index = pd.MultiIndex.from_product([[i],count_temp.index])\n",
    "    count_all1 = pd.concat([count_all1,count_temp],axis=0)\n",
    "# count_all1输出到文件中\n",
    "count_all1.to_csv(\"D:\\\\githubku\\\\my_jupyter\\\\20230206_tpm_count\\\\final\\\\12\\\\type\\\\count\\\\finaltype\\\\count_all.txt\",sep=\"\\t\")\n"
   ]
  }
 ],
 "metadata": {
  "kernelspec": {
   "display_name": "base",
   "language": "python",
   "name": "python3"
  },
  "language_info": {
   "codemirror_mode": {
    "name": "ipython",
    "version": 3
   },
   "file_extension": ".py",
   "mimetype": "text/x-python",
   "name": "python",
   "nbconvert_exporter": "python",
   "pygments_lexer": "ipython3",
   "version": "3.9.12"
  },
  "orig_nbformat": 4,
  "vscode": {
   "interpreter": {
    "hash": "fd16a1c2e981052eaae61151b9525ae9913f1f0d16bca6b7e7be9e0f29d739d2"
   }
  }
 },
 "nbformat": 4,
 "nbformat_minor": 2
}
