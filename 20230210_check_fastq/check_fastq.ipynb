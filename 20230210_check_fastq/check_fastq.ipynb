{
 "cells": [
  {
   "cell_type": "code",
   "execution_count": null,
   "metadata": {},
   "outputs": [],
   "source": [
    "# The 2nd line should only consist of A, C, G, T, and/or N\n",
    "# The length of the 4th line matches the length of the 2nd line\n",
    "# The 3rd line must start with a '+'\n",
    "# The file should have an integral multiple of 4 number of lines."
   ]
  },
  {
   "cell_type": "code",
   "execution_count": null,
   "metadata": {},
   "outputs": [],
   "source": [
    "#逐行读取\"D:\\github\\my_jupyter\\20230210_check_fastq\\50_merge.r1.fq\"、\"D:\\github\\my_jupyter\\20230210_check_fastq\\50_merge.r2.fq\"文件，将每个序列第二行开头加G，39个T，AAGTCGGAGG，第四行开头添加DDEEEDCDECCEFBDCCDDAFFCBCBE@DCDEGAAEBB@CAAABBACCBC，保存为文件50_mergeadd.r1.fq、50_mergeadd.r2.fq"
   ]
  },
  {
   "cell_type": "code",
   "execution_count": 13,
   "metadata": {},
   "outputs": [],
   "source": [
    "#读入D:\\\\github\\\\my_jupyter\\\\20230210_check_fastq\\\\50_merge.r1.fq文件\n",
    "#在ACCBC:<;=;:=974>=;A@4A@77397@33:798;69:=3;=4=8C<@8@3:5=DAFFCBCBE@DCDEGAAEBB@CAAABBACCBC=?===;:C?A>B<B=?>6<<;;CCB???BDE@?=B=?9A;87@<B=@6@<中随机生成50个字符，保存为\n",
    "#将每个序列第二行开头加G，39个T，AAGTCGGAGG，添加到第四行开头\n",
    "#保存为文件50_mergeadd.r1.fq\n",
    "\n",
    "import random\n",
    "import string\n",
    "a=\"HIGIGGDHGAFHF>HHHHGGHFHIIHEI>FFIHHGF?H?G6789:;<=>?@ABCDEFGHIJKLMNOPQRSTUVWXYZ\"\n",
    "with open(\"D:\\\\github\\\\my_jupyter\\\\20230210_check_fastq\\\\50_merge.r1.fq\", \"r\") as f:\n",
    "    #将每个序列第二行开头加G，39个T，AAGTCGGAGG，添加到第四行开头\n",
    "    lines = [line.strip() for line in f]\n",
    "    for i in range(0, len(lines), 4):\n",
    "        b = ''.join(random.sample(a, 50))\n",
    "        lines[i+1] = \"G\" + \"T\"*39 + \"AAGTCGGAGG\" + lines[i+1]\n",
    "        lines[i+3] = str(b) + lines[i+3]\n",
    "    #保存为文件50_mergeadd.r1.fq\n",
    "    with open(\"D:\\\\github\\\\my_jupyter\\\\20230210_check_fastq\\\\50_mergeadd.r1.fq\", \"w\") as f:\n",
    "        for line in lines:\n",
    "            f.write(line + \"\\n\")\n"
   ]
  },
  {
   "cell_type": "code",
   "execution_count": 15,
   "metadata": {},
   "outputs": [],
   "source": [
    "import random\n",
    "import string\n",
    "a=\"HIGIGGDHGAFHF>HHHHGGHFHIIHEI>FFIHHGF?H?G6789:;<=>?@ABCDEFGHIJKLMNOPQRSTUVWXYZ\"\n",
    "with open(\"D:\\\\github\\\\my_jupyter\\\\20230210_check_fastq\\\\50_merge.r2.fq\", \"r\") as f:\n",
    "    #将每个序列第二行开头加G，39个T，AAGTCGGAGG，添加到第四行开头\n",
    "    lines = [line.strip() for line in f]\n",
    "    for i in range(0, len(lines), 4):\n",
    "        b = ''.join(random.sample(a, 50))\n",
    "        lines[i+1] =  lines[i+1] + \"T\"*39 + \"AAGTCGGATC\"+\"G\" \n",
    "        lines[i+3] =  lines[i+3]+str(b)\n",
    "    #保存为文件50_mergeadd.r1.fq\n",
    "    with open(\"D:\\\\github\\\\my_jupyter\\\\20230210_check_fastq\\\\50_mergeadd.r2.fq\", \"w\") as f:\n",
    "        for line in lines:\n",
    "            f.write(line + \"\\n\")"
   ]
  }
 ],
 "metadata": {
  "kernelspec": {
   "display_name": "jupyter",
   "language": "python",
   "name": "python3"
  },
  "language_info": {
   "codemirror_mode": {
    "name": "ipython",
    "version": 3
   },
   "file_extension": ".py",
   "mimetype": "text/x-python",
   "name": "python",
   "nbconvert_exporter": "python",
   "pygments_lexer": "ipython3",
   "version": "3.11.0"
  },
  "orig_nbformat": 4,
  "vscode": {
   "interpreter": {
    "hash": "2bec6086b02231d38c95b08e39cf3141cf2e4575acd22a1cbdbee10d55915bea"
   }
  }
 },
 "nbformat": 4,
 "nbformat_minor": 2
}
