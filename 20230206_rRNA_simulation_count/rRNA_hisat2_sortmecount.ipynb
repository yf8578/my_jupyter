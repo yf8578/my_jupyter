{
 "cells": [
  {
   "attachments": {},
   "cell_type": "markdown",
   "metadata": {},
   "source": [
    "# 统计仿真数据rRNA去除率"
   ]
  },
  {
   "attachments": {},
   "cell_type": "markdown",
   "metadata": {},
   "source": [
    "思路：已经统计过每条reads的ID，只要统计匹配的ID数目就可以了\n"
   ]
  },
  {
   "attachments": {},
   "cell_type": "markdown",
   "metadata": {},
   "source": [
    "## 统计hisat2结果"
   ]
  },
  {
   "cell_type": "code",
   "execution_count": 1,
   "metadata": {},
   "outputs": [],
   "source": [
    "import sys\n",
    "import pandas as pd"
   ]
  },
  {
   "cell_type": "code",
   "execution_count": 23,
   "metadata": {},
   "outputs": [],
   "source": [
    "input=sys.argv[1]\n",
    "output=sys.argv[2]\n",
    "#逐行读取input1，以|为分隔符，只保留第一部分，随后只删除@SYN_前的内容，输出到新文件中时还原@SYN_符号\n",
    "with open(input) as f:\n",
    "    lines = f.readlines()\n",
    "    with open(output, \"w\") as f1:\n",
    "        for line in lines:\n",
    "            line = line.split(\"_1_.\")[0] ##    #以|为分隔符，只保留第一部分\n",
    "            line1=line.split(\"@SYN_\")[1] ##    #删除@SYN_前的内容\n",
    "            f1.write(\"@SYN_\"+line1+\"\\n\")    ##    #还原@SYN_符号\n"
   ]
  },
  {
   "cell_type": "code",
   "execution_count": 11,
   "metadata": {},
   "outputs": [
    {
     "name": "stdout",
     "output_type": "stream",
     "text": [
      "328\n"
     ]
    }
   ],
   "source": [
    "input1=\"C:\\\\Users\\\\10696\\\\Desktop\\\\hisat2100_010.non_rRNa_id.r1.txt\"\n",
    "#读取input1，统计不以@SYN_开头的行数\n",
    "with open(input1) as f:\n",
    "    lines = f.readlines()\n",
    "    count=0\n",
    "    for line in lines:\n",
    "        if not line.startswith(\"@SYN_\"):\n",
    "            count=count+1\n",
    "print(count)\n"
   ]
  },
  {
   "cell_type": "code",
   "execution_count": null,
   "metadata": {},
   "outputs": [],
   "source": [
    "input1=\"C:\\\\Users\\\\10696\\\\Desktop\\\\hisat2100_010.non_rRNa_id.r1.txt\"\n",
    "#读取input1，打印不以@SYN_开头的行\n",
    "with open(input1) as f:\n",
    "    lines = f.readlines()\n",
    "    for line in lines:\n",
    "        if not line.startswith(\"@SYN_\"):\n",
    "            print(line)"
   ]
  }
 ],
 "metadata": {
  "kernelspec": {
   "display_name": "base",
   "language": "python",
   "name": "python3"
  },
  "language_info": {
   "codemirror_mode": {
    "name": "ipython",
    "version": 3
   },
   "file_extension": ".py",
   "mimetype": "text/x-python",
   "name": "python",
   "nbconvert_exporter": "python",
   "pygments_lexer": "ipython3",
   "version": "3.9.13"
  },
  "orig_nbformat": 4,
  "vscode": {
   "interpreter": {
    "hash": "5179d32cf6ec497baf3f8a3ef987cc77c5d2dc691fdde20a56316522f61a7323"
   }
  }
 },
 "nbformat": 4,
 "nbformat_minor": 2
}
