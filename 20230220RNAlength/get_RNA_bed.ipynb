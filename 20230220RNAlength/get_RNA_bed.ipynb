{
 "cells": [
  {
   "attachments": {},
   "cell_type": "markdown",
   "metadata": {},
   "source": [
    "<!--\n",
    " * @Author: zhangyyyyyyf\n",
    " * @Date: 2023-02-20 11:30:39\n",
    " * @LastEditors: zhangyyyyyyf 1069624549@qq.com\n",
    " * @LastEditTime: 2023-02-20 11:39:37\n",
    " * @FilePath: \\undefinedd:\\githubku\\my_jupyter\\20230220RNAlength\\get_RNA_bed.ipynb\n",
    " * @Description: \n",
    " * \n",
    "-->\n",
    "\n",
    "## 根据自己的merge文件，先把不同的RNA的id或者是name提取出来，之后在gtf文件中找到对应的行，再根据文档中的说明，提取RNA-seq的bed文件"
   ]
  },
  {
   "cell_type": "code",
   "execution_count": 1,
   "metadata": {},
   "outputs": [],
   "source": [
    "import pandas as pd\n",
    "import os"
   ]
  },
  {
   "cell_type": "code",
   "execution_count": 2,
   "metadata": {},
   "outputs": [
    {
     "name": "stderr",
     "output_type": "stream",
     "text": [
      "C:\\Users\\MyPC\\AppData\\Local\\Temp\\ipykernel_9024\\2845192844.py:2: DtypeWarning: Columns (0) have mixed types. Specify dtype option on import or set low_memory=False.\n",
      "  merge = pd.read_csv('merge1v1.txt',sep='\\t')\n"
     ]
    }
   ],
   "source": [
    "##merge文件\n",
    "merge = pd.read_csv('merge1v1.txt',sep='\\t')\n",
    "gtf = pd.read_csv('0729_new8.all.gtf',sep='\\t',header=None)"
   ]
  },
  {
   "cell_type": "code",
   "execution_count": null,
   "metadata": {},
   "outputs": [],
   "source": [
    "merge"
   ]
  },
  {
   "cell_type": "code",
   "execution_count": 3,
   "metadata": {},
   "outputs": [],
   "source": [
    "#获取Gene Name\tGene type列\n",
    "merge_name_type = merge[['Gene Name','Gene type']]"
   ]
  },
  {
   "cell_type": "code",
   "execution_count": null,
   "metadata": {},
   "outputs": [],
   "source": [
    "merge_name_type"
   ]
  },
  {
   "cell_type": "code",
   "execution_count": 4,
   "metadata": {},
   "outputs": [],
   "source": [
    "#删除Gene tName重复的行\n",
    "merge_name_type = merge_name_type.drop_duplicates(subset='Gene Name')"
   ]
  },
  {
   "cell_type": "code",
   "execution_count": null,
   "metadata": {},
   "outputs": [],
   "source": [
    "merge_name_type"
   ]
  },
  {
   "cell_type": "code",
   "execution_count": null,
   "metadata": {},
   "outputs": [],
   "source": [
    "#编写一个函数，获取Gene type为XXX的行，并保存到文件中\n",
    "def get_type(type):\n",
    "    type_df = merge_name_type[merge_name_type['Gene type'] == type]\n",
    "    type_df.to_csv(type+'.txt',index=False,sep='\\t')\n",
    "    return type_df\n",
    "if __name__ == '__main__':\n",
    "#创建一个list，存放需要获取的Gene type，Mt_rRNA,Mt_tRNA,lncRNA,miRNA,misc_RNA,other,protein_coding,pseudo,rRNA,scRNA,snRNA,snoRNA,tRNA,\n",
    "    type_list = ['Mt_rRNA','Mt_tRNA','lncRNA','miRNA','misc_RNA','other','protein_coding','pseudo','rRNA','scRNA','snRNA','snoRNA','tRNA']\n",
    "    for i in type_list:\n",
    "        get_type(i)"
   ]
  },
  {
   "cell_type": "code",
   "execution_count": null,
   "metadata": {},
   "outputs": [],
   "source": [
    "#遍历读取name_type文件夹下的文件，根据其中的Gene Name获取gtf文件中的行，以并保存到文件中\n",
    "def get_bed(type):\n",
    "    type_df = pd.read_csv('name_type/'+type+'.txt',sep='\\t')\n",
    "    type_name = type_df['Gene Name']\n",
    "    #创建一个空的dataframe\n",
    "    df_all = pd.DataFrame()\n",
    "    for name in type_name:\n",
    "        df = gtf[gtf[8].str.contains(name)]\n",
    "        #将df保存到df_all中 \n",
    "        df_all = pd.concat([df_all,df])\n",
    "    df_all.to_csv('bed/'+type+'.gtf',index=False,sep='\\t',header=None) ## 注意 此处的文件后缀有误，应该为gtf\n",
    "    return type_df\n",
    "\n",
    "if __name__ == '__main__':\n",
    "    type_list = ['Mt_rRNA','Mt_tRNA','lncRNA','miRNA','misc_RNA','other','protein_coding','pseudo','rRNA','scRNA','snRNA','snoRNA','tRNA']\n",
    "    for i in type_list:\n",
    "        get_bed(i)"
   ]
  },
  {
   "cell_type": "code",
   "execution_count": 6,
   "metadata": {},
   "outputs": [
    {
     "data": {
      "text/html": [
       "<div>\n",
       "<style scoped>\n",
       "    .dataframe tbody tr th:only-of-type {\n",
       "        vertical-align: middle;\n",
       "    }\n",
       "\n",
       "    .dataframe tbody tr th {\n",
       "        vertical-align: top;\n",
       "    }\n",
       "\n",
       "    .dataframe thead th {\n",
       "        text-align: right;\n",
       "    }\n",
       "</style>\n",
       "<table border=\"1\" class=\"dataframe\">\n",
       "  <thead>\n",
       "    <tr style=\"text-align: right;\">\n",
       "      <th></th>\n",
       "      <th>0</th>\n",
       "      <th>1</th>\n",
       "      <th>2</th>\n",
       "      <th>3</th>\n",
       "      <th>4</th>\n",
       "      <th>5</th>\n",
       "      <th>6</th>\n",
       "      <th>7</th>\n",
       "      <th>8</th>\n",
       "    </tr>\n",
       "  </thead>\n",
       "  <tbody>\n",
       "    <tr>\n",
       "      <th>0</th>\n",
       "      <td>NC_000001.11</td>\n",
       "      <td>BestRefSeq</td>\n",
       "      <td>gene</td>\n",
       "      <td>11874</td>\n",
       "      <td>14409</td>\n",
       "      <td>.</td>\n",
       "      <td>+</td>\n",
       "      <td>.</td>\n",
       "      <td>gene_id \"100287102\"; transcript_id \"100287102_...</td>\n",
       "    </tr>\n",
       "    <tr>\n",
       "      <th>1</th>\n",
       "      <td>NC_000001.11</td>\n",
       "      <td>BestRefSeq</td>\n",
       "      <td>transcript</td>\n",
       "      <td>11874</td>\n",
       "      <td>14409</td>\n",
       "      <td>.</td>\n",
       "      <td>+</td>\n",
       "      <td>.</td>\n",
       "      <td>gene_id \"100287102\"; transcript_id \"NR_046018....</td>\n",
       "    </tr>\n",
       "    <tr>\n",
       "      <th>2</th>\n",
       "      <td>NC_000001.11</td>\n",
       "      <td>BestRefSeq</td>\n",
       "      <td>exon</td>\n",
       "      <td>11874</td>\n",
       "      <td>12227</td>\n",
       "      <td>.</td>\n",
       "      <td>+</td>\n",
       "      <td>.</td>\n",
       "      <td>gene_id \"100287102\"; transcript_id \"NR_046018....</td>\n",
       "    </tr>\n",
       "    <tr>\n",
       "      <th>3</th>\n",
       "      <td>NC_000001.11</td>\n",
       "      <td>BestRefSeq</td>\n",
       "      <td>exon</td>\n",
       "      <td>12613</td>\n",
       "      <td>12721</td>\n",
       "      <td>.</td>\n",
       "      <td>+</td>\n",
       "      <td>.</td>\n",
       "      <td>gene_id \"100287102\"; transcript_id \"NR_046018....</td>\n",
       "    </tr>\n",
       "    <tr>\n",
       "      <th>4</th>\n",
       "      <td>NC_000001.11</td>\n",
       "      <td>BestRefSeq</td>\n",
       "      <td>exon</td>\n",
       "      <td>13221</td>\n",
       "      <td>14409</td>\n",
       "      <td>.</td>\n",
       "      <td>+</td>\n",
       "      <td>.</td>\n",
       "      <td>gene_id \"100287102\"; transcript_id \"NR_046018....</td>\n",
       "    </tr>\n",
       "    <tr>\n",
       "      <th>...</th>\n",
       "      <td>...</td>\n",
       "      <td>...</td>\n",
       "      <td>...</td>\n",
       "      <td>...</td>\n",
       "      <td>...</td>\n",
       "      <td>...</td>\n",
       "      <td>...</td>\n",
       "      <td>...</td>\n",
       "      <td>...</td>\n",
       "    </tr>\n",
       "    <tr>\n",
       "      <th>1837823</th>\n",
       "      <td>NC_012920.1</td>\n",
       "      <td>RefSeq</td>\n",
       "      <td>transcript</td>\n",
       "      <td>15888</td>\n",
       "      <td>15953</td>\n",
       "      <td>.</td>\n",
       "      <td>+</td>\n",
       "      <td>.</td>\n",
       "      <td>gene_id \"15919..15921)\"; transcript_id \"unassi...</td>\n",
       "    </tr>\n",
       "    <tr>\n",
       "      <th>1837824</th>\n",
       "      <td>NC_012920.1</td>\n",
       "      <td>RefSeq</td>\n",
       "      <td>exon</td>\n",
       "      <td>15888</td>\n",
       "      <td>15953</td>\n",
       "      <td>.</td>\n",
       "      <td>+</td>\n",
       "      <td>.</td>\n",
       "      <td>gene_id \"15919..15921)\"; transcript_id \"unassi...</td>\n",
       "    </tr>\n",
       "    <tr>\n",
       "      <th>1837825</th>\n",
       "      <td>NC_012920.1</td>\n",
       "      <td>RefSeq</td>\n",
       "      <td>gene</td>\n",
       "      <td>15956</td>\n",
       "      <td>16023</td>\n",
       "      <td>.</td>\n",
       "      <td>-</td>\n",
       "      <td>.</td>\n",
       "      <td>gene_id \"4571\"; transcript_id \"4571_is gene\"; ...</td>\n",
       "    </tr>\n",
       "    <tr>\n",
       "      <th>1837826</th>\n",
       "      <td>NC_012920.1</td>\n",
       "      <td>RefSeq</td>\n",
       "      <td>transcript</td>\n",
       "      <td>15956</td>\n",
       "      <td>16023</td>\n",
       "      <td>.</td>\n",
       "      <td>-</td>\n",
       "      <td>.</td>\n",
       "      <td>gene_id \"complement(15990..15992))\"; transcrip...</td>\n",
       "    </tr>\n",
       "    <tr>\n",
       "      <th>1837827</th>\n",
       "      <td>NC_012920.1</td>\n",
       "      <td>RefSeq</td>\n",
       "      <td>exon</td>\n",
       "      <td>15956</td>\n",
       "      <td>16023</td>\n",
       "      <td>.</td>\n",
       "      <td>-</td>\n",
       "      <td>.</td>\n",
       "      <td>gene_id \"complement(15990..15992))\"; transcrip...</td>\n",
       "    </tr>\n",
       "  </tbody>\n",
       "</table>\n",
       "<p>1837828 rows × 9 columns</p>\n",
       "</div>"
      ],
      "text/plain": [
       "                    0           1           2      3      4  5  6  7  \\\n",
       "0        NC_000001.11  BestRefSeq        gene  11874  14409  .  +  .   \n",
       "1        NC_000001.11  BestRefSeq  transcript  11874  14409  .  +  .   \n",
       "2        NC_000001.11  BestRefSeq        exon  11874  12227  .  +  .   \n",
       "3        NC_000001.11  BestRefSeq        exon  12613  12721  .  +  .   \n",
       "4        NC_000001.11  BestRefSeq        exon  13221  14409  .  +  .   \n",
       "...               ...         ...         ...    ...    ... .. .. ..   \n",
       "1837823   NC_012920.1      RefSeq  transcript  15888  15953  .  +  .   \n",
       "1837824   NC_012920.1      RefSeq        exon  15888  15953  .  +  .   \n",
       "1837825   NC_012920.1      RefSeq        gene  15956  16023  .  -  .   \n",
       "1837826   NC_012920.1      RefSeq  transcript  15956  16023  .  -  .   \n",
       "1837827   NC_012920.1      RefSeq        exon  15956  16023  .  -  .   \n",
       "\n",
       "                                                         8  \n",
       "0        gene_id \"100287102\"; transcript_id \"100287102_...  \n",
       "1        gene_id \"100287102\"; transcript_id \"NR_046018....  \n",
       "2        gene_id \"100287102\"; transcript_id \"NR_046018....  \n",
       "3        gene_id \"100287102\"; transcript_id \"NR_046018....  \n",
       "4        gene_id \"100287102\"; transcript_id \"NR_046018....  \n",
       "...                                                    ...  \n",
       "1837823  gene_id \"15919..15921)\"; transcript_id \"unassi...  \n",
       "1837824  gene_id \"15919..15921)\"; transcript_id \"unassi...  \n",
       "1837825  gene_id \"4571\"; transcript_id \"4571_is gene\"; ...  \n",
       "1837826  gene_id \"complement(15990..15992))\"; transcrip...  \n",
       "1837827  gene_id \"complement(15990..15992))\"; transcrip...  \n",
       "\n",
       "[1837828 rows x 9 columns]"
      ]
     },
     "execution_count": 6,
     "metadata": {},
     "output_type": "execute_result"
    }
   ],
   "source": [
    "gtf"
   ]
  }
 ],
 "metadata": {
  "kernelspec": {
   "display_name": "Python 3",
   "language": "python",
   "name": "python3"
  },
  "language_info": {
   "codemirror_mode": {
    "name": "ipython",
    "version": 3
   },
   "file_extension": ".py",
   "mimetype": "text/x-python",
   "name": "python",
   "nbconvert_exporter": "python",
   "pygments_lexer": "ipython3",
   "version": "3.11.2"
  },
  "orig_nbformat": 4,
  "vscode": {
   "interpreter": {
    "hash": "865d8b2eb28e274047ba64063dfb6a2aabf0dfec4905d304d7a76618dae6fdd4"
   }
  }
 },
 "nbformat": 4,
 "nbformat_minor": 2
}
