{
 "cells": [
  {
   "attachments": {},
   "cell_type": "markdown",
   "metadata": {},
   "source": [
    "# 根据.gene_count.txt文件中计算cpm"
   ]
  },
  {
   "cell_type": "code",
   "execution_count": 17,
   "metadata": {},
   "outputs": [],
   "source": [
    "import pandas as pd\n",
    "import sys\n",
    "input_count_path=sys.argv[1]+''\n",
    "#读取，删除第一行\n",
    "genes_counts=pd.read_csv('D:\\\\githubku\\\\my_jupyter\\\\20230217_improve\\\\SGI75460067.gene_count.txt',sep=',',header=None)\n",
    "genes_counts=genes_counts.drop(0,axis=0)\n",
    "genes_counts_count=genes_counts.iloc[:,1:].astype('int')"
   ]
  },
  {
   "cell_type": "code",
   "execution_count": 18,
   "metadata": {},
   "outputs": [],
   "source": [
    "#读取D:\\githubku\\my_jupyter\\20230217_improve\\nan_name_id.txt,列名设置为\n",
    "#['GeneID','id','Gene Name','type']\n",
    "nan_name_id=pd.read_csv('D:\\\\githubku\\\\my_jupyter\\\\20230217_improve\\\\nan_name_id.txt',sep='\\t',header=None)\n",
    "nan_name_id.columns=['Gene ID','id','Gene Name','type']\n",
    "nan_name_id.index=nan_name_id['Gene ID']"
   ]
  },
  {
   "cell_type": "code",
   "execution_count": 19,
   "metadata": {},
   "outputs": [],
   "source": [
    "# genes_counts的0列按照|分割，变成三列\n",
    "genes_counts=genes_counts[0].str.split('|',expand=True)\n",
    "genes_counts=pd.concat([genes_counts,genes_counts_count],axis=1)\n",
    "genes_counts.columns=['Gene ID','Gene Name','count']"
   ]
  },
  {
   "cell_type": "code",
   "execution_count": 20,
   "metadata": {},
   "outputs": [],
   "source": [
    "genes_counts_nan=genes_counts[genes_counts.isnull().values==True]\n",
    "genes_counts_nan.index=genes_counts_nan['Gene ID']"
   ]
  },
  {
   "cell_type": "code",
   "execution_count": 21,
   "metadata": {},
   "outputs": [],
   "source": [
    "#遍历genes_counts_nan的GeneID列，获得nan_name_id中对应的Gene Name\n",
    "for nan_id in genes_counts_nan['Gene ID']:\n",
    "    genes_counts_nan.loc[nan_id,'Gene Name']=nan_name_id.loc[nan_id,'Gene Name']"
   ]
  },
  {
   "cell_type": "code",
   "execution_count": 22,
   "metadata": {},
   "outputs": [],
   "source": [
    "#删除genes_counts中包含nan的行\n",
    "genes_counts=genes_counts.dropna(axis=0)"
   ]
  },
  {
   "cell_type": "code",
   "execution_count": 23,
   "metadata": {},
   "outputs": [],
   "source": [
    "#删除genes_counts_nan中的索引\n",
    "genes_counts_nan=genes_counts_nan.reset_index(drop=True)"
   ]
  },
  {
   "cell_type": "code",
   "execution_count": 24,
   "metadata": {},
   "outputs": [],
   "source": [
    "genes_counts=pd.concat([genes_counts,genes_counts_nan],axis=0)"
   ]
  },
  {
   "cell_type": "code",
   "execution_count": 25,
   "metadata": {},
   "outputs": [],
   "source": [
    "#将相同的Gene Name的count相加\n",
    "genes_counts=genes_counts.groupby('Gene Name',).mean(numeric_only=True)\n",
    "#计算cpm\n",
    "genes_counts['cpm']=genes_counts['count']/genes_counts['count'].sum()*1000000"
   ]
  },
  {
   "cell_type": "code",
   "execution_count": 26,
   "metadata": {},
   "outputs": [],
   "source": [
    "name_cpm=genes_counts[['cpm']]\n",
    "name_cpm.to_csv('D:\\\\githubku\\\\my_jupyter\\\\20230217_improve\\\\name_cpm.txt',sep='\\t',index=True,header=True)"
   ]
  }
 ],
 "metadata": {
  "kernelspec": {
   "display_name": "base",
   "language": "python",
   "name": "python3"
  },
  "language_info": {
   "codemirror_mode": {
    "name": "ipython",
    "version": 3
   },
   "file_extension": ".py",
   "mimetype": "text/x-python",
   "name": "python",
   "nbconvert_exporter": "python",
   "pygments_lexer": "ipython3",
   "version": "3.9.12"
  },
  "orig_nbformat": 4,
  "vscode": {
   "interpreter": {
    "hash": "fd16a1c2e981052eaae61151b9525ae9913f1f0d16bca6b7e7be9e0f29d739d2"
   }
  }
 },
 "nbformat": 4,
 "nbformat_minor": 2
}
