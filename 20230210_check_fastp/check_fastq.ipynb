{
 "cells": [
  {
   "cell_type": "code",
   "execution_count": null,
   "metadata": {},
   "outputs": [],
   "source": [
    "# The 2nd line should only consist of A, C, G, T, and/or N\n",
    "# The length of the 4th line matches the length of the 2nd line\n",
    "# The 3rd line must start with a '+'\n",
    "# The file should have an integral multiple of 4 number of lines."
   ]
  }
 ],
 "metadata": {
  "kernelspec": {
   "display_name": "jupyter",
   "language": "python",
   "name": "python3"
  },
  "language_info": {
   "name": "python",
   "version": "3.11.0"
  },
  "orig_nbformat": 4,
  "vscode": {
   "interpreter": {
    "hash": "2bec6086b02231d38c95b08e39cf3141cf2e4575acd22a1cbdbee10d55915bea"
   }
  }
 },
 "nbformat": 4,
 "nbformat_minor": 2
}
